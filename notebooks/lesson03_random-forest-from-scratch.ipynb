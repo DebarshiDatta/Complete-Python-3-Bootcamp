{
  "cells": [
    {
      "cell_type": "markdown",
      "metadata": {
        "id": "fRYVRwrmMJO7"
      },
      "source": [
        "# Lesson 3 - Random forest from scratch\n",
        "\n",
        "> A walkthrough on how to write a Random Forest classifier from scratch."
      ]
    },
    {
      "cell_type": "markdown",
      "metadata": {
        "id": "kSNzs0tzMJO8"
      },
      "source": [
        "[![Binder](https://mybinder.org/badge_logo.svg)](https://mybinder.org/v2/gh/lewtun/hepml/master?urlpath=lab/tree/notebooks%2Flesson03_random-forest-from-scratch.ipynb) [![Open In Colab](https://colab.research.google.com/assets/colab-badge.svg)](https://colab.research.google.com/github/lewtun/hepml/blob/master/notebooks/lesson03_random-forest-from-scratch.ipynb)"
      ]
    },
    {
      "cell_type": "markdown",
      "metadata": {
        "id": "CGu4YQPWMJO8"
      },
      "source": [
        "## Learning objectives\n",
        "\n",
        "* Gain an in-depth understanding on how Random Forests work under the hood\n",
        "* Understand the basics of object-oriented-programming (OOP) in Python\n",
        "* Gain an introduction to computational complexity and the steps one can take to optimise an algorithm for speed"
      ]
    },
    {
      "cell_type": "markdown",
      "metadata": {
        "id": "eYF2B2kaMJO9"
      },
      "source": [
        "## References"
      ]
    },
    {
      "cell_type": "markdown",
      "metadata": {
        "id": "2VYka20VMJO9"
      },
      "source": [
        "This lesson adapts the implementation for regression trees from\n",
        "\n",
        "* Lessons 5 & 7 from Jeremy Howard's [_Practical Machine Learning for Coders_](http://course18.fast.ai/ml.html) course\n",
        "\n",
        "to binary classificaion tasks. You may also find the following references useful for conceptual understanding:\n",
        "\n",
        "* [_Machine Learning Recipes #8_](https://www.youtube.com/watch?time_continue=492&v=LDRbO9a6XPU&feature=emb_logo) by Josh Gordon\n",
        "* [A visual introduction to machine learning](http://www.r2d3.us/visual-intro-to-machine-learning-part-1/) by Stephanie Yee and Tony Chu\n",
        "* [_Object-Oriented Programming (OOP) in Python 3_](https://realpython.com/python3-object-oriented-programming/) by Real Python"
      ]
    },
    {
      "cell_type": "markdown",
      "metadata": {
        "id": "CTf2q5fzMJO9"
      },
      "source": [
        "## The data\n",
        "\n",
        "We will continue to use the [SUSY dataset](http://archive.ics.uci.edu/ml/datasets/SUSY#) from lesson 1, but this time using a random sample of 100,000 events:\n",
        "\n",
        "* `susy_sample.feather`\n"
      ]
    },
    {
      "cell_type": "markdown",
      "metadata": {
        "id": "zFAxkoioMJO-"
      },
      "source": [
        "## Import libraries"
      ]
    },
    {
      "cell_type": "code",
      "execution_count": 1,
      "metadata": {
        "id": "jKEV8bEFMJO-"
      },
      "outputs": [],
      "source": [
        "# reload modules before executing user code\n",
        "%load_ext autoreload\n",
        "# reload all modules every time before executing Python code\n",
        "%autoreload 2\n",
        "# render plots in notebook\n",
        "%matplotlib inline"
      ]
    },
    {
      "cell_type": "code",
      "execution_count": 6,
      "metadata": {
        "id": "sF0-i26ZMJO-",
        "outputId": "81fd2ea7-b1cc-4028-d004-0edcbcb5ff28",
        "colab": {
          "base_uri": "https://localhost:8080/"
        }
      },
      "outputs": [
        {
          "output_type": "stream",
          "name": "stdout",
          "text": [
            "Collecting hepml\n",
            "  Downloading hepml-0.0.12-py3-none-any.whl.metadata (10 kB)\n",
            "Requirement already satisfied: scikit-learn in /usr/local/lib/python3.11/dist-packages (from hepml) (1.6.1)\n",
            "Requirement already satisfied: pandas in /usr/local/lib/python3.11/dist-packages (from hepml) (2.2.2)\n",
            "Requirement already satisfied: numpy in /usr/local/lib/python3.11/dist-packages (from hepml) (2.0.2)\n",
            "Requirement already satisfied: seaborn in /usr/local/lib/python3.11/dist-packages (from hepml) (0.13.2)\n",
            "Collecting black (from hepml)\n",
            "  Downloading black-25.1.0-cp311-cp311-manylinux_2_17_x86_64.manylinux2014_x86_64.manylinux_2_28_x86_64.whl.metadata (81 kB)\n",
            "\u001b[2K     \u001b[90m━━━━━━━━━━━━━━━━━━━━━━━━━━━━━━━━━━━━━━━━\u001b[0m \u001b[32m81.3/81.3 kB\u001b[0m \u001b[31m1.9 MB/s\u001b[0m eta \u001b[36m0:00:00\u001b[0m\n",
            "\u001b[?25hRequirement already satisfied: tqdm in /usr/local/lib/python3.11/dist-packages (from hepml) (4.67.1)\n",
            "Collecting wget (from hepml)\n",
            "  Downloading wget-3.2.zip (10 kB)\n",
            "  Preparing metadata (setup.py) ... \u001b[?25l\u001b[?25hdone\n",
            "Collecting nbdev (from hepml)\n",
            "  Downloading nbdev-2.4.2-py3-none-any.whl.metadata (10 kB)\n",
            "Requirement already satisfied: sklearn-pandas in /usr/local/lib/python3.11/dist-packages (from hepml) (2.2.0)\n",
            "Requirement already satisfied: graphviz in /usr/local/lib/python3.11/dist-packages (from hepml) (0.20.3)\n",
            "Requirement already satisfied: gdown in /usr/local/lib/python3.11/dist-packages (from hepml) (5.2.0)\n",
            "Requirement already satisfied: pyarrow in /usr/local/lib/python3.11/dist-packages (from hepml) (18.1.0)\n",
            "Requirement already satisfied: numba in /usr/local/lib/python3.11/dist-packages (from hepml) (0.60.0)\n",
            "Requirement already satisfied: Cython in /usr/local/lib/python3.11/dist-packages (from hepml) (3.0.12)\n",
            "Requirement already satisfied: fastprogress in /usr/local/lib/python3.11/dist-packages (from hepml) (1.0.3)\n",
            "Collecting giotto-tda (from hepml)\n",
            "  Downloading giotto_tda-0.6.2-cp311-cp311-manylinux_2_17_x86_64.manylinux2014_x86_64.whl.metadata (8.7 kB)\n",
            "Requirement already satisfied: pillow in /usr/local/lib/python3.11/dist-packages (from hepml) (11.2.1)\n",
            "Requirement already satisfied: click>=8.0.0 in /usr/local/lib/python3.11/dist-packages (from black->hepml) (8.2.0)\n",
            "Collecting mypy-extensions>=0.4.3 (from black->hepml)\n",
            "  Downloading mypy_extensions-1.1.0-py3-none-any.whl.metadata (1.1 kB)\n",
            "Requirement already satisfied: packaging>=22.0 in /usr/local/lib/python3.11/dist-packages (from black->hepml) (24.2)\n",
            "Collecting pathspec>=0.9.0 (from black->hepml)\n",
            "  Downloading pathspec-0.12.1-py3-none-any.whl.metadata (21 kB)\n",
            "Requirement already satisfied: platformdirs>=2 in /usr/local/lib/python3.11/dist-packages (from black->hepml) (4.3.8)\n",
            "Requirement already satisfied: beautifulsoup4 in /usr/local/lib/python3.11/dist-packages (from gdown->hepml) (4.13.4)\n",
            "Requirement already satisfied: filelock in /usr/local/lib/python3.11/dist-packages (from gdown->hepml) (3.18.0)\n",
            "Requirement already satisfied: requests[socks] in /usr/local/lib/python3.11/dist-packages (from gdown->hepml) (2.32.3)\n",
            "Requirement already satisfied: scipy>=1.5.0 in /usr/local/lib/python3.11/dist-packages (from giotto-tda->hepml) (1.15.3)\n",
            "Requirement already satisfied: joblib>=0.16.0 in /usr/local/lib/python3.11/dist-packages (from giotto-tda->hepml) (1.5.0)\n",
            "Collecting scikit-learn (from hepml)\n",
            "  Downloading scikit_learn-1.3.2-cp311-cp311-manylinux_2_17_x86_64.manylinux2014_x86_64.whl.metadata (11 kB)\n",
            "Collecting giotto-ph>=0.2.1 (from giotto-tda->hepml)\n",
            "  Downloading giotto_ph-0.2.4-cp311-cp311-manylinux_2_17_x86_64.manylinux2014_x86_64.whl.metadata (10 kB)\n",
            "Collecting pyflagser>=0.4.3 (from giotto-tda->hepml)\n",
            "  Downloading pyflagser-0.4.7-cp311-cp311-manylinux_2_17_x86_64.manylinux2014_x86_64.whl.metadata (5.0 kB)\n",
            "Collecting igraph>=0.9.8 (from giotto-tda->hepml)\n",
            "  Downloading igraph-0.11.8-cp39-abi3-manylinux_2_17_x86_64.manylinux2014_x86_64.whl.metadata (3.8 kB)\n",
            "Requirement already satisfied: plotly>=4.8.2 in /usr/local/lib/python3.11/dist-packages (from giotto-tda->hepml) (5.24.1)\n",
            "Requirement already satisfied: ipywidgets>=7.5.1 in /usr/local/lib/python3.11/dist-packages (from giotto-tda->hepml) (7.7.1)\n",
            "Collecting numpy (from hepml)\n",
            "  Downloading numpy-1.26.4-cp311-cp311-manylinux_2_17_x86_64.manylinux2014_x86_64.whl.metadata (61 kB)\n",
            "\u001b[2K     \u001b[90m━━━━━━━━━━━━━━━━━━━━━━━━━━━━━━━━━━━━━━━━\u001b[0m \u001b[32m61.0/61.0 kB\u001b[0m \u001b[31m4.9 MB/s\u001b[0m eta \u001b[36m0:00:00\u001b[0m\n",
            "\u001b[?25hRequirement already satisfied: threadpoolctl>=2.0.0 in /usr/local/lib/python3.11/dist-packages (from scikit-learn->hepml) (3.6.0)\n",
            "Collecting fastcore>=1.8.0 (from nbdev->hepml)\n",
            "  Downloading fastcore-1.8.2-py3-none-any.whl.metadata (3.7 kB)\n",
            "Collecting execnb>=0.1.12 (from nbdev->hepml)\n",
            "  Downloading execnb-0.1.14-py3-none-any.whl.metadata (3.6 kB)\n",
            "Requirement already satisfied: astunparse in /usr/local/lib/python3.11/dist-packages (from nbdev->hepml) (1.6.3)\n",
            "Collecting ghapi>=1.0.3 (from nbdev->hepml)\n",
            "  Downloading ghapi-1.0.6-py3-none-any.whl.metadata (13 kB)\n",
            "Collecting watchdog (from nbdev->hepml)\n",
            "  Downloading watchdog-6.0.0-py3-none-manylinux2014_x86_64.whl.metadata (44 kB)\n",
            "\u001b[2K     \u001b[90m━━━━━━━━━━━━━━━━━━━━━━━━━━━━━━━━━━━━━━━━\u001b[0m \u001b[32m44.3/44.3 kB\u001b[0m \u001b[31m4.2 MB/s\u001b[0m eta \u001b[36m0:00:00\u001b[0m\n",
            "\u001b[?25hCollecting asttokens (from nbdev->hepml)\n",
            "  Downloading asttokens-3.0.0-py3-none-any.whl.metadata (4.7 kB)\n",
            "Requirement already satisfied: setuptools in /usr/local/lib/python3.11/dist-packages (from nbdev->hepml) (75.2.0)\n",
            "Requirement already satisfied: PyYAML in /usr/local/lib/python3.11/dist-packages (from nbdev->hepml) (6.0.2)\n",
            "Requirement already satisfied: llvmlite<0.44,>=0.43.0dev0 in /usr/local/lib/python3.11/dist-packages (from numba->hepml) (0.43.0)\n",
            "Requirement already satisfied: python-dateutil>=2.8.2 in /usr/local/lib/python3.11/dist-packages (from pandas->hepml) (2.9.0.post0)\n",
            "Requirement already satisfied: pytz>=2020.1 in /usr/local/lib/python3.11/dist-packages (from pandas->hepml) (2025.2)\n",
            "Requirement already satisfied: tzdata>=2022.7 in /usr/local/lib/python3.11/dist-packages (from pandas->hepml) (2025.2)\n",
            "Requirement already satisfied: matplotlib!=3.6.1,>=3.4 in /usr/local/lib/python3.11/dist-packages (from seaborn->hepml) (3.10.0)\n",
            "Requirement already satisfied: ipython in /usr/local/lib/python3.11/dist-packages (from execnb>=0.1.12->nbdev->hepml) (7.34.0)\n",
            "Collecting texttable>=1.6.2 (from igraph>=0.9.8->giotto-tda->hepml)\n",
            "  Downloading texttable-1.7.0-py2.py3-none-any.whl.metadata (9.8 kB)\n",
            "Requirement already satisfied: ipykernel>=4.5.1 in /usr/local/lib/python3.11/dist-packages (from ipywidgets>=7.5.1->giotto-tda->hepml) (6.17.1)\n",
            "Requirement already satisfied: ipython-genutils~=0.2.0 in /usr/local/lib/python3.11/dist-packages (from ipywidgets>=7.5.1->giotto-tda->hepml) (0.2.0)\n",
            "Requirement already satisfied: traitlets>=4.3.1 in /usr/local/lib/python3.11/dist-packages (from ipywidgets>=7.5.1->giotto-tda->hepml) (5.7.1)\n",
            "Requirement already satisfied: widgetsnbextension~=3.6.0 in /usr/local/lib/python3.11/dist-packages (from ipywidgets>=7.5.1->giotto-tda->hepml) (3.6.10)\n",
            "Requirement already satisfied: jupyterlab-widgets>=1.0.0 in /usr/local/lib/python3.11/dist-packages (from ipywidgets>=7.5.1->giotto-tda->hepml) (3.0.15)\n",
            "Requirement already satisfied: contourpy>=1.0.1 in /usr/local/lib/python3.11/dist-packages (from matplotlib!=3.6.1,>=3.4->seaborn->hepml) (1.3.2)\n",
            "Requirement already satisfied: cycler>=0.10 in /usr/local/lib/python3.11/dist-packages (from matplotlib!=3.6.1,>=3.4->seaborn->hepml) (0.12.1)\n",
            "Requirement already satisfied: fonttools>=4.22.0 in /usr/local/lib/python3.11/dist-packages (from matplotlib!=3.6.1,>=3.4->seaborn->hepml) (4.58.0)\n",
            "Requirement already satisfied: kiwisolver>=1.3.1 in /usr/local/lib/python3.11/dist-packages (from matplotlib!=3.6.1,>=3.4->seaborn->hepml) (1.4.8)\n",
            "Requirement already satisfied: pyparsing>=2.3.1 in /usr/local/lib/python3.11/dist-packages (from matplotlib!=3.6.1,>=3.4->seaborn->hepml) (3.2.3)\n",
            "Requirement already satisfied: tenacity>=6.2.0 in /usr/local/lib/python3.11/dist-packages (from plotly>=4.8.2->giotto-tda->hepml) (9.1.2)\n",
            "Requirement already satisfied: six>=1.5 in /usr/local/lib/python3.11/dist-packages (from python-dateutil>=2.8.2->pandas->hepml) (1.17.0)\n",
            "Requirement already satisfied: wheel<1.0,>=0.23.0 in /usr/local/lib/python3.11/dist-packages (from astunparse->nbdev->hepml) (0.45.1)\n",
            "Requirement already satisfied: soupsieve>1.2 in /usr/local/lib/python3.11/dist-packages (from beautifulsoup4->gdown->hepml) (2.7)\n",
            "Requirement already satisfied: typing-extensions>=4.0.0 in /usr/local/lib/python3.11/dist-packages (from beautifulsoup4->gdown->hepml) (4.13.2)\n",
            "Requirement already satisfied: charset-normalizer<4,>=2 in /usr/local/lib/python3.11/dist-packages (from requests[socks]->gdown->hepml) (3.4.2)\n",
            "Requirement already satisfied: idna<4,>=2.5 in /usr/local/lib/python3.11/dist-packages (from requests[socks]->gdown->hepml) (3.10)\n",
            "Requirement already satisfied: urllib3<3,>=1.21.1 in /usr/local/lib/python3.11/dist-packages (from requests[socks]->gdown->hepml) (2.4.0)\n",
            "Requirement already satisfied: certifi>=2017.4.17 in /usr/local/lib/python3.11/dist-packages (from requests[socks]->gdown->hepml) (2025.4.26)\n",
            "Requirement already satisfied: PySocks!=1.5.7,>=1.5.6 in /usr/local/lib/python3.11/dist-packages (from requests[socks]->gdown->hepml) (1.7.1)\n",
            "Requirement already satisfied: debugpy>=1.0 in /usr/local/lib/python3.11/dist-packages (from ipykernel>=4.5.1->ipywidgets>=7.5.1->giotto-tda->hepml) (1.8.0)\n",
            "Requirement already satisfied: jupyter-client>=6.1.12 in /usr/local/lib/python3.11/dist-packages (from ipykernel>=4.5.1->ipywidgets>=7.5.1->giotto-tda->hepml) (6.1.12)\n",
            "Requirement already satisfied: matplotlib-inline>=0.1 in /usr/local/lib/python3.11/dist-packages (from ipykernel>=4.5.1->ipywidgets>=7.5.1->giotto-tda->hepml) (0.1.7)\n",
            "Requirement already satisfied: nest-asyncio in /usr/local/lib/python3.11/dist-packages (from ipykernel>=4.5.1->ipywidgets>=7.5.1->giotto-tda->hepml) (1.6.0)\n",
            "Requirement already satisfied: psutil in /usr/local/lib/python3.11/dist-packages (from ipykernel>=4.5.1->ipywidgets>=7.5.1->giotto-tda->hepml) (5.9.5)\n",
            "Requirement already satisfied: pyzmq>=17 in /usr/local/lib/python3.11/dist-packages (from ipykernel>=4.5.1->ipywidgets>=7.5.1->giotto-tda->hepml) (24.0.1)\n",
            "Requirement already satisfied: tornado>=6.1 in /usr/local/lib/python3.11/dist-packages (from ipykernel>=4.5.1->ipywidgets>=7.5.1->giotto-tda->hepml) (6.4.2)\n",
            "Collecting jedi>=0.16 (from ipython->execnb>=0.1.12->nbdev->hepml)\n",
            "  Downloading jedi-0.19.2-py2.py3-none-any.whl.metadata (22 kB)\n",
            "Requirement already satisfied: decorator in /usr/local/lib/python3.11/dist-packages (from ipython->execnb>=0.1.12->nbdev->hepml) (4.4.2)\n",
            "Requirement already satisfied: pickleshare in /usr/local/lib/python3.11/dist-packages (from ipython->execnb>=0.1.12->nbdev->hepml) (0.7.5)\n",
            "Requirement already satisfied: prompt-toolkit!=3.0.0,!=3.0.1,<3.1.0,>=2.0.0 in /usr/local/lib/python3.11/dist-packages (from ipython->execnb>=0.1.12->nbdev->hepml) (3.0.51)\n",
            "Requirement already satisfied: pygments in /usr/local/lib/python3.11/dist-packages (from ipython->execnb>=0.1.12->nbdev->hepml) (2.19.1)\n",
            "Requirement already satisfied: backcall in /usr/local/lib/python3.11/dist-packages (from ipython->execnb>=0.1.12->nbdev->hepml) (0.2.0)\n",
            "Requirement already satisfied: pexpect>4.3 in /usr/local/lib/python3.11/dist-packages (from ipython->execnb>=0.1.12->nbdev->hepml) (4.9.0)\n",
            "Requirement already satisfied: notebook>=4.4.1 in /usr/local/lib/python3.11/dist-packages (from widgetsnbextension~=3.6.0->ipywidgets>=7.5.1->giotto-tda->hepml) (6.5.7)\n",
            "Requirement already satisfied: parso<0.9.0,>=0.8.4 in /usr/local/lib/python3.11/dist-packages (from jedi>=0.16->ipython->execnb>=0.1.12->nbdev->hepml) (0.8.4)\n",
            "Requirement already satisfied: jupyter-core>=4.6.0 in /usr/local/lib/python3.11/dist-packages (from jupyter-client>=6.1.12->ipykernel>=4.5.1->ipywidgets>=7.5.1->giotto-tda->hepml) (5.7.2)\n",
            "Requirement already satisfied: jinja2 in /usr/local/lib/python3.11/dist-packages (from notebook>=4.4.1->widgetsnbextension~=3.6.0->ipywidgets>=7.5.1->giotto-tda->hepml) (3.1.6)\n",
            "Requirement already satisfied: argon2-cffi in /usr/local/lib/python3.11/dist-packages (from notebook>=4.4.1->widgetsnbextension~=3.6.0->ipywidgets>=7.5.1->giotto-tda->hepml) (23.1.0)\n",
            "Requirement already satisfied: nbformat in /usr/local/lib/python3.11/dist-packages (from notebook>=4.4.1->widgetsnbextension~=3.6.0->ipywidgets>=7.5.1->giotto-tda->hepml) (5.10.4)\n",
            "Requirement already satisfied: nbconvert>=5 in /usr/local/lib/python3.11/dist-packages (from notebook>=4.4.1->widgetsnbextension~=3.6.0->ipywidgets>=7.5.1->giotto-tda->hepml) (7.16.6)\n",
            "Requirement already satisfied: Send2Trash>=1.8.0 in /usr/local/lib/python3.11/dist-packages (from notebook>=4.4.1->widgetsnbextension~=3.6.0->ipywidgets>=7.5.1->giotto-tda->hepml) (1.8.3)\n",
            "Requirement already satisfied: terminado>=0.8.3 in /usr/local/lib/python3.11/dist-packages (from notebook>=4.4.1->widgetsnbextension~=3.6.0->ipywidgets>=7.5.1->giotto-tda->hepml) (0.18.1)\n",
            "Requirement already satisfied: prometheus-client in /usr/local/lib/python3.11/dist-packages (from notebook>=4.4.1->widgetsnbextension~=3.6.0->ipywidgets>=7.5.1->giotto-tda->hepml) (0.21.1)\n",
            "Requirement already satisfied: nbclassic>=0.4.7 in /usr/local/lib/python3.11/dist-packages (from notebook>=4.4.1->widgetsnbextension~=3.6.0->ipywidgets>=7.5.1->giotto-tda->hepml) (1.3.1)\n",
            "Requirement already satisfied: ptyprocess>=0.5 in /usr/local/lib/python3.11/dist-packages (from pexpect>4.3->ipython->execnb>=0.1.12->nbdev->hepml) (0.7.0)\n",
            "Requirement already satisfied: wcwidth in /usr/local/lib/python3.11/dist-packages (from prompt-toolkit!=3.0.0,!=3.0.1,<3.1.0,>=2.0.0->ipython->execnb>=0.1.12->nbdev->hepml) (0.2.13)\n",
            "Requirement already satisfied: notebook-shim>=0.2.3 in /usr/local/lib/python3.11/dist-packages (from nbclassic>=0.4.7->notebook>=4.4.1->widgetsnbextension~=3.6.0->ipywidgets>=7.5.1->giotto-tda->hepml) (0.2.4)\n",
            "Requirement already satisfied: bleach!=5.0.0 in /usr/local/lib/python3.11/dist-packages (from bleach[css]!=5.0.0->nbconvert>=5->notebook>=4.4.1->widgetsnbextension~=3.6.0->ipywidgets>=7.5.1->giotto-tda->hepml) (6.2.0)\n",
            "Requirement already satisfied: defusedxml in /usr/local/lib/python3.11/dist-packages (from nbconvert>=5->notebook>=4.4.1->widgetsnbextension~=3.6.0->ipywidgets>=7.5.1->giotto-tda->hepml) (0.7.1)\n",
            "Requirement already satisfied: jupyterlab-pygments in /usr/local/lib/python3.11/dist-packages (from nbconvert>=5->notebook>=4.4.1->widgetsnbextension~=3.6.0->ipywidgets>=7.5.1->giotto-tda->hepml) (0.3.0)\n",
            "Requirement already satisfied: markupsafe>=2.0 in /usr/local/lib/python3.11/dist-packages (from nbconvert>=5->notebook>=4.4.1->widgetsnbextension~=3.6.0->ipywidgets>=7.5.1->giotto-tda->hepml) (3.0.2)\n",
            "Requirement already satisfied: mistune<4,>=2.0.3 in /usr/local/lib/python3.11/dist-packages (from nbconvert>=5->notebook>=4.4.1->widgetsnbextension~=3.6.0->ipywidgets>=7.5.1->giotto-tda->hepml) (3.1.3)\n",
            "Requirement already satisfied: nbclient>=0.5.0 in /usr/local/lib/python3.11/dist-packages (from nbconvert>=5->notebook>=4.4.1->widgetsnbextension~=3.6.0->ipywidgets>=7.5.1->giotto-tda->hepml) (0.10.2)\n",
            "Requirement already satisfied: pandocfilters>=1.4.1 in /usr/local/lib/python3.11/dist-packages (from nbconvert>=5->notebook>=4.4.1->widgetsnbextension~=3.6.0->ipywidgets>=7.5.1->giotto-tda->hepml) (1.5.1)\n",
            "Requirement already satisfied: fastjsonschema>=2.15 in /usr/local/lib/python3.11/dist-packages (from nbformat->notebook>=4.4.1->widgetsnbextension~=3.6.0->ipywidgets>=7.5.1->giotto-tda->hepml) (2.21.1)\n",
            "Requirement already satisfied: jsonschema>=2.6 in /usr/local/lib/python3.11/dist-packages (from nbformat->notebook>=4.4.1->widgetsnbextension~=3.6.0->ipywidgets>=7.5.1->giotto-tda->hepml) (4.23.0)\n",
            "Requirement already satisfied: argon2-cffi-bindings in /usr/local/lib/python3.11/dist-packages (from argon2-cffi->notebook>=4.4.1->widgetsnbextension~=3.6.0->ipywidgets>=7.5.1->giotto-tda->hepml) (21.2.0)\n",
            "Requirement already satisfied: webencodings in /usr/local/lib/python3.11/dist-packages (from bleach!=5.0.0->bleach[css]!=5.0.0->nbconvert>=5->notebook>=4.4.1->widgetsnbextension~=3.6.0->ipywidgets>=7.5.1->giotto-tda->hepml) (0.5.1)\n",
            "Requirement already satisfied: tinycss2<1.5,>=1.1.0 in /usr/local/lib/python3.11/dist-packages (from bleach[css]!=5.0.0->nbconvert>=5->notebook>=4.4.1->widgetsnbextension~=3.6.0->ipywidgets>=7.5.1->giotto-tda->hepml) (1.4.0)\n",
            "Requirement already satisfied: attrs>=22.2.0 in /usr/local/lib/python3.11/dist-packages (from jsonschema>=2.6->nbformat->notebook>=4.4.1->widgetsnbextension~=3.6.0->ipywidgets>=7.5.1->giotto-tda->hepml) (25.3.0)\n",
            "Requirement already satisfied: jsonschema-specifications>=2023.03.6 in /usr/local/lib/python3.11/dist-packages (from jsonschema>=2.6->nbformat->notebook>=4.4.1->widgetsnbextension~=3.6.0->ipywidgets>=7.5.1->giotto-tda->hepml) (2025.4.1)\n",
            "Requirement already satisfied: referencing>=0.28.4 in /usr/local/lib/python3.11/dist-packages (from jsonschema>=2.6->nbformat->notebook>=4.4.1->widgetsnbextension~=3.6.0->ipywidgets>=7.5.1->giotto-tda->hepml) (0.36.2)\n",
            "Requirement already satisfied: rpds-py>=0.7.1 in /usr/local/lib/python3.11/dist-packages (from jsonschema>=2.6->nbformat->notebook>=4.4.1->widgetsnbextension~=3.6.0->ipywidgets>=7.5.1->giotto-tda->hepml) (0.24.0)\n",
            "Requirement already satisfied: jupyter-server<3,>=1.8 in /usr/local/lib/python3.11/dist-packages (from notebook-shim>=0.2.3->nbclassic>=0.4.7->notebook>=4.4.1->widgetsnbextension~=3.6.0->ipywidgets>=7.5.1->giotto-tda->hepml) (1.16.0)\n",
            "Requirement already satisfied: cffi>=1.0.1 in /usr/local/lib/python3.11/dist-packages (from argon2-cffi-bindings->argon2-cffi->notebook>=4.4.1->widgetsnbextension~=3.6.0->ipywidgets>=7.5.1->giotto-tda->hepml) (1.17.1)\n",
            "Requirement already satisfied: pycparser in /usr/local/lib/python3.11/dist-packages (from cffi>=1.0.1->argon2-cffi-bindings->argon2-cffi->notebook>=4.4.1->widgetsnbextension~=3.6.0->ipywidgets>=7.5.1->giotto-tda->hepml) (2.22)\n",
            "Requirement already satisfied: anyio>=3.1.0 in /usr/local/lib/python3.11/dist-packages (from jupyter-server<3,>=1.8->notebook-shim>=0.2.3->nbclassic>=0.4.7->notebook>=4.4.1->widgetsnbextension~=3.6.0->ipywidgets>=7.5.1->giotto-tda->hepml) (4.9.0)\n",
            "Requirement already satisfied: websocket-client in /usr/local/lib/python3.11/dist-packages (from jupyter-server<3,>=1.8->notebook-shim>=0.2.3->nbclassic>=0.4.7->notebook>=4.4.1->widgetsnbextension~=3.6.0->ipywidgets>=7.5.1->giotto-tda->hepml) (1.8.0)\n",
            "Requirement already satisfied: sniffio>=1.1 in /usr/local/lib/python3.11/dist-packages (from anyio>=3.1.0->jupyter-server<3,>=1.8->notebook-shim>=0.2.3->nbclassic>=0.4.7->notebook>=4.4.1->widgetsnbextension~=3.6.0->ipywidgets>=7.5.1->giotto-tda->hepml) (1.3.1)\n",
            "Downloading hepml-0.0.12-py3-none-any.whl (25 kB)\n",
            "Downloading black-25.1.0-cp311-cp311-manylinux_2_17_x86_64.manylinux2014_x86_64.manylinux_2_28_x86_64.whl (1.7 MB)\n",
            "\u001b[2K   \u001b[90m━━━━━━━━━━━━━━━━━━━━━━━━━━━━━━━━━━━━━━━━\u001b[0m \u001b[32m1.7/1.7 MB\u001b[0m \u001b[31m27.5 MB/s\u001b[0m eta \u001b[36m0:00:00\u001b[0m\n",
            "\u001b[?25hDownloading giotto_tda-0.6.2-cp311-cp311-manylinux_2_17_x86_64.manylinux2014_x86_64.whl (1.4 MB)\n",
            "\u001b[2K   \u001b[90m━━━━━━━━━━━━━━━━━━━━━━━━━━━━━━━━━━━━━━━━\u001b[0m \u001b[32m1.4/1.4 MB\u001b[0m \u001b[31m18.2 MB/s\u001b[0m eta \u001b[36m0:00:00\u001b[0m\n",
            "\u001b[?25hDownloading scikit_learn-1.3.2-cp311-cp311-manylinux_2_17_x86_64.manylinux2014_x86_64.whl (10.9 MB)\n",
            "\u001b[2K   \u001b[90m━━━━━━━━━━━━━━━━━━━━━━━━━━━━━━━━━━━━━━━━\u001b[0m \u001b[32m10.9/10.9 MB\u001b[0m \u001b[31m80.1 MB/s\u001b[0m eta \u001b[36m0:00:00\u001b[0m\n",
            "\u001b[?25hDownloading numpy-1.26.4-cp311-cp311-manylinux_2_17_x86_64.manylinux2014_x86_64.whl (18.3 MB)\n",
            "\u001b[2K   \u001b[90m━━━━━━━━━━━━━━━━━━━━━━━━━━━━━━━━━━━━━━━━\u001b[0m \u001b[32m18.3/18.3 MB\u001b[0m \u001b[31m69.0 MB/s\u001b[0m eta \u001b[36m0:00:00\u001b[0m\n",
            "\u001b[?25hDownloading nbdev-2.4.2-py3-none-any.whl (70 kB)\n",
            "\u001b[2K   \u001b[90m━━━━━━━━━━━━━━━━━━━━━━━━━━━━━━━━━━━━━━━━\u001b[0m \u001b[32m70.1/70.1 kB\u001b[0m \u001b[31m6.9 MB/s\u001b[0m eta \u001b[36m0:00:00\u001b[0m\n",
            "\u001b[?25hDownloading execnb-0.1.14-py3-none-any.whl (13 kB)\n",
            "Downloading fastcore-1.8.2-py3-none-any.whl (78 kB)\n",
            "\u001b[2K   \u001b[90m━━━━━━━━━━━━━━━━━━━━━━━━━━━━━━━━━━━━━━━━\u001b[0m \u001b[32m78.2/78.2 kB\u001b[0m \u001b[31m8.2 MB/s\u001b[0m eta \u001b[36m0:00:00\u001b[0m\n",
            "\u001b[?25hDownloading ghapi-1.0.6-py3-none-any.whl (62 kB)\n",
            "\u001b[2K   \u001b[90m━━━━━━━━━━━━━━━━━━━━━━━━━━━━━━━━━━━━━━━━\u001b[0m \u001b[32m62.4/62.4 kB\u001b[0m \u001b[31m6.6 MB/s\u001b[0m eta \u001b[36m0:00:00\u001b[0m\n",
            "\u001b[?25hDownloading giotto_ph-0.2.4-cp311-cp311-manylinux_2_17_x86_64.manylinux2014_x86_64.whl (558 kB)\n",
            "\u001b[2K   \u001b[90m━━━━━━━━━━━━━━━━━━━━━━━━━━━━━━━━━━━━━━━━\u001b[0m \u001b[32m558.8/558.8 kB\u001b[0m \u001b[31m32.5 MB/s\u001b[0m eta \u001b[36m0:00:00\u001b[0m\n",
            "\u001b[?25hDownloading igraph-0.11.8-cp39-abi3-manylinux_2_17_x86_64.manylinux2014_x86_64.whl (3.1 MB)\n",
            "\u001b[2K   \u001b[90m━━━━━━━━━━━━━━━━━━━━━━━━━━━━━━━━━━━━━━━━\u001b[0m \u001b[32m3.1/3.1 MB\u001b[0m \u001b[31m65.8 MB/s\u001b[0m eta \u001b[36m0:00:00\u001b[0m\n",
            "\u001b[?25hDownloading mypy_extensions-1.1.0-py3-none-any.whl (5.0 kB)\n",
            "Downloading pathspec-0.12.1-py3-none-any.whl (31 kB)\n",
            "Downloading pyflagser-0.4.7-cp311-cp311-manylinux_2_17_x86_64.manylinux2014_x86_64.whl (460 kB)\n",
            "\u001b[2K   \u001b[90m━━━━━━━━━━━━━━━━━━━━━━━━━━━━━━━━━━━━━━━━\u001b[0m \u001b[32m460.6/460.6 kB\u001b[0m \u001b[31m31.0 MB/s\u001b[0m eta \u001b[36m0:00:00\u001b[0m\n",
            "\u001b[?25hDownloading asttokens-3.0.0-py3-none-any.whl (26 kB)\n",
            "Downloading watchdog-6.0.0-py3-none-manylinux2014_x86_64.whl (79 kB)\n",
            "\u001b[2K   \u001b[90m━━━━━━━━━━━━━━━━━━━━━━━━━━━━━━━━━━━━━━━━\u001b[0m \u001b[32m79.1/79.1 kB\u001b[0m \u001b[31m8.3 MB/s\u001b[0m eta \u001b[36m0:00:00\u001b[0m\n",
            "\u001b[?25hDownloading texttable-1.7.0-py2.py3-none-any.whl (10 kB)\n",
            "Downloading jedi-0.19.2-py2.py3-none-any.whl (1.6 MB)\n",
            "\u001b[2K   \u001b[90m━━━━━━━━━━━━━━━━━━━━━━━━━━━━━━━━━━━━━━━━\u001b[0m \u001b[32m1.6/1.6 MB\u001b[0m \u001b[31m79.5 MB/s\u001b[0m eta \u001b[36m0:00:00\u001b[0m\n",
            "\u001b[?25hBuilding wheels for collected packages: wget\n",
            "  Building wheel for wget (setup.py) ... \u001b[?25l\u001b[?25hdone\n",
            "  Created wheel for wget: filename=wget-3.2-py3-none-any.whl size=9655 sha256=1dffd70242349827c7bc86296f87bc6832f67281af484eac95dcebd9544cf4ef\n",
            "  Stored in directory: /root/.cache/pip/wheels/40/b3/0f/a40dbd1c6861731779f62cc4babcb234387e11d697df70ee97\n",
            "Successfully built wget\n",
            "Installing collected packages: wget, texttable, watchdog, pathspec, numpy, mypy-extensions, jedi, igraph, fastcore, asttokens, ghapi, black, scikit-learn, pyflagser, execnb, nbdev, giotto-ph, giotto-tda, hepml\n",
            "  Attempting uninstall: numpy\n",
            "    Found existing installation: numpy 2.0.2\n",
            "    Uninstalling numpy-2.0.2:\n",
            "      Successfully uninstalled numpy-2.0.2\n",
            "  Attempting uninstall: fastcore\n",
            "    Found existing installation: fastcore 1.7.29\n",
            "    Uninstalling fastcore-1.7.29:\n",
            "      Successfully uninstalled fastcore-1.7.29\n",
            "  Attempting uninstall: scikit-learn\n",
            "    Found existing installation: scikit-learn 1.6.1\n",
            "    Uninstalling scikit-learn-1.6.1:\n",
            "      Successfully uninstalled scikit-learn-1.6.1\n",
            "\u001b[31mERROR: pip's dependency resolver does not currently take into account all the packages that are installed. This behaviour is the source of the following dependency conflicts.\n",
            "fastai 2.7.19 requires fastcore<1.8,>=1.5.29, but you have fastcore 1.8.2 which is incompatible.\n",
            "thinc 8.3.6 requires numpy<3.0.0,>=2.0.0, but you have numpy 1.26.4 which is incompatible.\u001b[0m\u001b[31m\n",
            "\u001b[0mSuccessfully installed asttokens-3.0.0 black-25.1.0 execnb-0.1.14 fastcore-1.8.2 ghapi-1.0.6 giotto-ph-0.2.4 giotto-tda-0.6.2 hepml-0.0.12 igraph-0.11.8 jedi-0.19.2 mypy-extensions-1.1.0 nbdev-2.4.2 numpy-1.26.4 pathspec-0.12.1 pyflagser-0.4.7 scikit-learn-1.3.2 texttable-1.7.0 watchdog-6.0.0 wget-3.2\n"
          ]
        }
      ],
      "source": [
        "# uncomment this if running locally or on Google Colab\n",
        "!pip install --upgrade hepml"
      ]
    },
    {
      "cell_type": "code",
      "execution_count": 2,
      "metadata": {
        "id": "4pQNF2kIMJO_"
      },
      "outputs": [],
      "source": [
        "# data wrangling\n",
        "import pandas as pd\n",
        "import numpy as np\n",
        "from pathlib import Path\n",
        "from hepml.core import display_large, download_dataset\n",
        "\n",
        "# data viz\n",
        "import matplotlib.pyplot as plt\n",
        "from sklearn.tree import plot_tree\n",
        "\n",
        "# ml magic\n",
        "from sklearn.ensemble import RandomForestClassifier\n",
        "from sklearn.model_selection import train_test_split\n",
        "from sklearn.metrics import roc_auc_score"
      ]
    },
    {
      "cell_type": "markdown",
      "metadata": {
        "id": "Fz38Z7SEMJO_"
      },
      "source": [
        "## Plan of attack"
      ]
    },
    {
      "cell_type": "markdown",
      "metadata": {
        "id": "dK0QNRmuMJO_"
      },
      "source": [
        "<div style=\"text-align: center\">\n",
        "<img src='https://github.com/lewtun/hepml/blob/master/notebooks/images/wtf.jpg?raw=1'>\n",
        "   <p style=\"text-align: center;\"> <b>Figure reference:</b> https://bit.ly/2S7XuJP </p>\n",
        "</div>"
      ]
    },
    {
      "cell_type": "markdown",
      "metadata": {
        "id": "pkldb_i3MJO_"
      },
      "source": [
        "A good strategy when implementing any algorithm from scratch is to compare against an existing implementation.  This is especially true for machine learning algorithms, where there's many ways to _fail silently_ by introducing bugs in the data manipulation steps that do not throw an error, but result in worse performance in the target metric.\n",
        "\n",
        "To that end, we will use the same sample of 100,000 events from the SUSY dataset that we analysed in lessons 1 and 2, and to simplify the analysis during development we'll start by picking just two features to build our Random Forest on. At each step, we will compare our implementation against scikit-learn's [RandomForestClassifier](https://scikit-learn.org/stable/modules/generated/sklearn.ensemble.RandomForestClassifier.html) as a way of testing the correctness of our code."
      ]
    },
    {
      "cell_type": "markdown",
      "metadata": {
        "id": "2sJiQJHZMJO_"
      },
      "source": [
        "## Load the data"
      ]
    },
    {
      "cell_type": "markdown",
      "metadata": {
        "id": "iFEmuHG9MJO_"
      },
      "source": [
        "As usual, we can download our dataset by using our `download_dataset` helper function:"
      ]
    },
    {
      "cell_type": "code",
      "execution_count": 3,
      "metadata": {
        "id": "vTffcKmgMJO_",
        "outputId": "d0d76250-725c-4edc-9dc9-a97f78056b4f",
        "colab": {
          "base_uri": "https://localhost:8080/"
        }
      },
      "outputs": [
        {
          "output_type": "stream",
          "name": "stdout",
          "text": [
            "Download of susy_sample.feather dataset complete.\n"
          ]
        }
      ],
      "source": [
        "download_dataset(\"susy_sample.feather\")"
      ]
    },
    {
      "cell_type": "code",
      "execution_count": 4,
      "metadata": {
        "id": "mfKUqbxQMJPA",
        "outputId": "4ca0e1e7-fc9c-499c-b8b3-32d44f61d805",
        "colab": {
          "base_uri": "https://localhost:8080/"
        }
      },
      "outputs": [
        {
          "output_type": "stream",
          "name": "stdout",
          "text": [
            "susy_sample.feather\n"
          ]
        }
      ],
      "source": [
        "DATA = Path(\"../data\")\n",
        "!ls {DATA}"
      ]
    },
    {
      "cell_type": "markdown",
      "metadata": {
        "id": "VEVK2S6PMJPA"
      },
      "source": [
        "With pathlib it is a simple matter to define the filepath to the dataset, and since the file is in Feather format we can load it as a `pandas.DataFrame` as follows:"
      ]
    },
    {
      "cell_type": "code",
      "execution_count": 5,
      "metadata": {
        "id": "wGs9DoVJMJPA",
        "outputId": "0ac2a4b8-c38c-4555-ea3c-069f5acd8511",
        "colab": {
          "base_uri": "https://localhost:8080/",
          "height": 261
        }
      },
      "outputs": [
        {
          "output_type": "execute_result",
          "data": {
            "text/plain": [
              "   signal  lepton 1 pT  lepton 1 eta  lepton 1 phi  lepton 2 pT  lepton 2 eta  \\\n",
              "0     1.0     0.821395     -0.103436      0.168752     1.051992      0.431800   \n",
              "1     1.0     0.907188     -1.143420      1.317695     1.299381     -1.839876   \n",
              "2     0.0     0.659807     -1.977303     -1.410509     0.990329     -1.701409   \n",
              "3     0.0     0.720814     -0.863228      0.222717     0.502039      0.472637   \n",
              "4     1.0     0.672261      1.264989     -0.032661     0.560856      0.086291   \n",
              "\n",
              "   lepton 2 phi  missing energy magnitude  missing energy phi   MET_rel  \\\n",
              "0     -1.210648                  0.428240           -1.663188  0.475450   \n",
              "1     -0.160823                  0.988608           -0.829973  1.395849   \n",
              "2      0.249222                  0.499979           -0.509796  0.737884   \n",
              "3     -1.134090                  0.829423           -1.630658  0.984676   \n",
              "4      1.542801                  1.705778            0.219045  1.099387   \n",
              "\n",
              "   axial MET       M_R    M_TR_2         R       MT2       S_R  M_Delta_R  \\\n",
              "0  -0.020242  0.795758  0.704858  0.786029  0.776712  0.792950   0.623655   \n",
              "1  -0.646217  0.963228  1.139413  1.049706  1.399592  1.019565   1.157555   \n",
              "2   0.661397  0.659569  0.609093  0.819481  0.000000  0.671145   0.397877   \n",
              "3  -0.509003  0.685277  0.898880  1.163993  0.885574  0.733956   0.942846   \n",
              "4   2.002287  0.646456  0.835348  1.146685  0.000000  0.692432   0.779301   \n",
              "\n",
              "   dPhi_r_b  cos(theta_r1)  \n",
              "0  0.770409       0.196300  \n",
              "1  1.484495       0.179817  \n",
              "2  1.439343       0.054367  \n",
              "3  1.475507       0.365486  \n",
              "4  1.543818       0.308604  "
            ],
            "text/html": [
              "\n",
              "  <div id=\"df-caa6842c-748f-4ecd-a4a8-9fd54a8afb55\" class=\"colab-df-container\">\n",
              "    <div>\n",
              "<style scoped>\n",
              "    .dataframe tbody tr th:only-of-type {\n",
              "        vertical-align: middle;\n",
              "    }\n",
              "\n",
              "    .dataframe tbody tr th {\n",
              "        vertical-align: top;\n",
              "    }\n",
              "\n",
              "    .dataframe thead th {\n",
              "        text-align: right;\n",
              "    }\n",
              "</style>\n",
              "<table border=\"1\" class=\"dataframe\">\n",
              "  <thead>\n",
              "    <tr style=\"text-align: right;\">\n",
              "      <th></th>\n",
              "      <th>signal</th>\n",
              "      <th>lepton 1 pT</th>\n",
              "      <th>lepton 1 eta</th>\n",
              "      <th>lepton 1 phi</th>\n",
              "      <th>lepton 2 pT</th>\n",
              "      <th>lepton 2 eta</th>\n",
              "      <th>lepton 2 phi</th>\n",
              "      <th>missing energy magnitude</th>\n",
              "      <th>missing energy phi</th>\n",
              "      <th>MET_rel</th>\n",
              "      <th>axial MET</th>\n",
              "      <th>M_R</th>\n",
              "      <th>M_TR_2</th>\n",
              "      <th>R</th>\n",
              "      <th>MT2</th>\n",
              "      <th>S_R</th>\n",
              "      <th>M_Delta_R</th>\n",
              "      <th>dPhi_r_b</th>\n",
              "      <th>cos(theta_r1)</th>\n",
              "    </tr>\n",
              "  </thead>\n",
              "  <tbody>\n",
              "    <tr>\n",
              "      <th>0</th>\n",
              "      <td>1.0</td>\n",
              "      <td>0.821395</td>\n",
              "      <td>-0.103436</td>\n",
              "      <td>0.168752</td>\n",
              "      <td>1.051992</td>\n",
              "      <td>0.431800</td>\n",
              "      <td>-1.210648</td>\n",
              "      <td>0.428240</td>\n",
              "      <td>-1.663188</td>\n",
              "      <td>0.475450</td>\n",
              "      <td>-0.020242</td>\n",
              "      <td>0.795758</td>\n",
              "      <td>0.704858</td>\n",
              "      <td>0.786029</td>\n",
              "      <td>0.776712</td>\n",
              "      <td>0.792950</td>\n",
              "      <td>0.623655</td>\n",
              "      <td>0.770409</td>\n",
              "      <td>0.196300</td>\n",
              "    </tr>\n",
              "    <tr>\n",
              "      <th>1</th>\n",
              "      <td>1.0</td>\n",
              "      <td>0.907188</td>\n",
              "      <td>-1.143420</td>\n",
              "      <td>1.317695</td>\n",
              "      <td>1.299381</td>\n",
              "      <td>-1.839876</td>\n",
              "      <td>-0.160823</td>\n",
              "      <td>0.988608</td>\n",
              "      <td>-0.829973</td>\n",
              "      <td>1.395849</td>\n",
              "      <td>-0.646217</td>\n",
              "      <td>0.963228</td>\n",
              "      <td>1.139413</td>\n",
              "      <td>1.049706</td>\n",
              "      <td>1.399592</td>\n",
              "      <td>1.019565</td>\n",
              "      <td>1.157555</td>\n",
              "      <td>1.484495</td>\n",
              "      <td>0.179817</td>\n",
              "    </tr>\n",
              "    <tr>\n",
              "      <th>2</th>\n",
              "      <td>0.0</td>\n",
              "      <td>0.659807</td>\n",
              "      <td>-1.977303</td>\n",
              "      <td>-1.410509</td>\n",
              "      <td>0.990329</td>\n",
              "      <td>-1.701409</td>\n",
              "      <td>0.249222</td>\n",
              "      <td>0.499979</td>\n",
              "      <td>-0.509796</td>\n",
              "      <td>0.737884</td>\n",
              "      <td>0.661397</td>\n",
              "      <td>0.659569</td>\n",
              "      <td>0.609093</td>\n",
              "      <td>0.819481</td>\n",
              "      <td>0.000000</td>\n",
              "      <td>0.671145</td>\n",
              "      <td>0.397877</td>\n",
              "      <td>1.439343</td>\n",
              "      <td>0.054367</td>\n",
              "    </tr>\n",
              "    <tr>\n",
              "      <th>3</th>\n",
              "      <td>0.0</td>\n",
              "      <td>0.720814</td>\n",
              "      <td>-0.863228</td>\n",
              "      <td>0.222717</td>\n",
              "      <td>0.502039</td>\n",
              "      <td>0.472637</td>\n",
              "      <td>-1.134090</td>\n",
              "      <td>0.829423</td>\n",
              "      <td>-1.630658</td>\n",
              "      <td>0.984676</td>\n",
              "      <td>-0.509003</td>\n",
              "      <td>0.685277</td>\n",
              "      <td>0.898880</td>\n",
              "      <td>1.163993</td>\n",
              "      <td>0.885574</td>\n",
              "      <td>0.733956</td>\n",
              "      <td>0.942846</td>\n",
              "      <td>1.475507</td>\n",
              "      <td>0.365486</td>\n",
              "    </tr>\n",
              "    <tr>\n",
              "      <th>4</th>\n",
              "      <td>1.0</td>\n",
              "      <td>0.672261</td>\n",
              "      <td>1.264989</td>\n",
              "      <td>-0.032661</td>\n",
              "      <td>0.560856</td>\n",
              "      <td>0.086291</td>\n",
              "      <td>1.542801</td>\n",
              "      <td>1.705778</td>\n",
              "      <td>0.219045</td>\n",
              "      <td>1.099387</td>\n",
              "      <td>2.002287</td>\n",
              "      <td>0.646456</td>\n",
              "      <td>0.835348</td>\n",
              "      <td>1.146685</td>\n",
              "      <td>0.000000</td>\n",
              "      <td>0.692432</td>\n",
              "      <td>0.779301</td>\n",
              "      <td>1.543818</td>\n",
              "      <td>0.308604</td>\n",
              "    </tr>\n",
              "  </tbody>\n",
              "</table>\n",
              "</div>\n",
              "    <div class=\"colab-df-buttons\">\n",
              "\n",
              "  <div class=\"colab-df-container\">\n",
              "    <button class=\"colab-df-convert\" onclick=\"convertToInteractive('df-caa6842c-748f-4ecd-a4a8-9fd54a8afb55')\"\n",
              "            title=\"Convert this dataframe to an interactive table.\"\n",
              "            style=\"display:none;\">\n",
              "\n",
              "  <svg xmlns=\"http://www.w3.org/2000/svg\" height=\"24px\" viewBox=\"0 -960 960 960\">\n",
              "    <path d=\"M120-120v-720h720v720H120Zm60-500h600v-160H180v160Zm220 220h160v-160H400v160Zm0 220h160v-160H400v160ZM180-400h160v-160H180v160Zm440 0h160v-160H620v160ZM180-180h160v-160H180v160Zm440 0h160v-160H620v160Z\"/>\n",
              "  </svg>\n",
              "    </button>\n",
              "\n",
              "  <style>\n",
              "    .colab-df-container {\n",
              "      display:flex;\n",
              "      gap: 12px;\n",
              "    }\n",
              "\n",
              "    .colab-df-convert {\n",
              "      background-color: #E8F0FE;\n",
              "      border: none;\n",
              "      border-radius: 50%;\n",
              "      cursor: pointer;\n",
              "      display: none;\n",
              "      fill: #1967D2;\n",
              "      height: 32px;\n",
              "      padding: 0 0 0 0;\n",
              "      width: 32px;\n",
              "    }\n",
              "\n",
              "    .colab-df-convert:hover {\n",
              "      background-color: #E2EBFA;\n",
              "      box-shadow: 0px 1px 2px rgba(60, 64, 67, 0.3), 0px 1px 3px 1px rgba(60, 64, 67, 0.15);\n",
              "      fill: #174EA6;\n",
              "    }\n",
              "\n",
              "    .colab-df-buttons div {\n",
              "      margin-bottom: 4px;\n",
              "    }\n",
              "\n",
              "    [theme=dark] .colab-df-convert {\n",
              "      background-color: #3B4455;\n",
              "      fill: #D2E3FC;\n",
              "    }\n",
              "\n",
              "    [theme=dark] .colab-df-convert:hover {\n",
              "      background-color: #434B5C;\n",
              "      box-shadow: 0px 1px 3px 1px rgba(0, 0, 0, 0.15);\n",
              "      filter: drop-shadow(0px 1px 2px rgba(0, 0, 0, 0.3));\n",
              "      fill: #FFFFFF;\n",
              "    }\n",
              "  </style>\n",
              "\n",
              "    <script>\n",
              "      const buttonEl =\n",
              "        document.querySelector('#df-caa6842c-748f-4ecd-a4a8-9fd54a8afb55 button.colab-df-convert');\n",
              "      buttonEl.style.display =\n",
              "        google.colab.kernel.accessAllowed ? 'block' : 'none';\n",
              "\n",
              "      async function convertToInteractive(key) {\n",
              "        const element = document.querySelector('#df-caa6842c-748f-4ecd-a4a8-9fd54a8afb55');\n",
              "        const dataTable =\n",
              "          await google.colab.kernel.invokeFunction('convertToInteractive',\n",
              "                                                    [key], {});\n",
              "        if (!dataTable) return;\n",
              "\n",
              "        const docLinkHtml = 'Like what you see? Visit the ' +\n",
              "          '<a target=\"_blank\" href=https://colab.research.google.com/notebooks/data_table.ipynb>data table notebook</a>'\n",
              "          + ' to learn more about interactive tables.';\n",
              "        element.innerHTML = '';\n",
              "        dataTable['output_type'] = 'display_data';\n",
              "        await google.colab.output.renderOutput(dataTable, element);\n",
              "        const docLink = document.createElement('div');\n",
              "        docLink.innerHTML = docLinkHtml;\n",
              "        element.appendChild(docLink);\n",
              "      }\n",
              "    </script>\n",
              "  </div>\n",
              "\n",
              "\n",
              "    <div id=\"df-83d0dbec-eda6-4290-b2b8-8fc66713bbe6\">\n",
              "      <button class=\"colab-df-quickchart\" onclick=\"quickchart('df-83d0dbec-eda6-4290-b2b8-8fc66713bbe6')\"\n",
              "                title=\"Suggest charts\"\n",
              "                style=\"display:none;\">\n",
              "\n",
              "<svg xmlns=\"http://www.w3.org/2000/svg\" height=\"24px\"viewBox=\"0 0 24 24\"\n",
              "     width=\"24px\">\n",
              "    <g>\n",
              "        <path d=\"M19 3H5c-1.1 0-2 .9-2 2v14c0 1.1.9 2 2 2h14c1.1 0 2-.9 2-2V5c0-1.1-.9-2-2-2zM9 17H7v-7h2v7zm4 0h-2V7h2v10zm4 0h-2v-4h2v4z\"/>\n",
              "    </g>\n",
              "</svg>\n",
              "      </button>\n",
              "\n",
              "<style>\n",
              "  .colab-df-quickchart {\n",
              "      --bg-color: #E8F0FE;\n",
              "      --fill-color: #1967D2;\n",
              "      --hover-bg-color: #E2EBFA;\n",
              "      --hover-fill-color: #174EA6;\n",
              "      --disabled-fill-color: #AAA;\n",
              "      --disabled-bg-color: #DDD;\n",
              "  }\n",
              "\n",
              "  [theme=dark] .colab-df-quickchart {\n",
              "      --bg-color: #3B4455;\n",
              "      --fill-color: #D2E3FC;\n",
              "      --hover-bg-color: #434B5C;\n",
              "      --hover-fill-color: #FFFFFF;\n",
              "      --disabled-bg-color: #3B4455;\n",
              "      --disabled-fill-color: #666;\n",
              "  }\n",
              "\n",
              "  .colab-df-quickchart {\n",
              "    background-color: var(--bg-color);\n",
              "    border: none;\n",
              "    border-radius: 50%;\n",
              "    cursor: pointer;\n",
              "    display: none;\n",
              "    fill: var(--fill-color);\n",
              "    height: 32px;\n",
              "    padding: 0;\n",
              "    width: 32px;\n",
              "  }\n",
              "\n",
              "  .colab-df-quickchart:hover {\n",
              "    background-color: var(--hover-bg-color);\n",
              "    box-shadow: 0 1px 2px rgba(60, 64, 67, 0.3), 0 1px 3px 1px rgba(60, 64, 67, 0.15);\n",
              "    fill: var(--button-hover-fill-color);\n",
              "  }\n",
              "\n",
              "  .colab-df-quickchart-complete:disabled,\n",
              "  .colab-df-quickchart-complete:disabled:hover {\n",
              "    background-color: var(--disabled-bg-color);\n",
              "    fill: var(--disabled-fill-color);\n",
              "    box-shadow: none;\n",
              "  }\n",
              "\n",
              "  .colab-df-spinner {\n",
              "    border: 2px solid var(--fill-color);\n",
              "    border-color: transparent;\n",
              "    border-bottom-color: var(--fill-color);\n",
              "    animation:\n",
              "      spin 1s steps(1) infinite;\n",
              "  }\n",
              "\n",
              "  @keyframes spin {\n",
              "    0% {\n",
              "      border-color: transparent;\n",
              "      border-bottom-color: var(--fill-color);\n",
              "      border-left-color: var(--fill-color);\n",
              "    }\n",
              "    20% {\n",
              "      border-color: transparent;\n",
              "      border-left-color: var(--fill-color);\n",
              "      border-top-color: var(--fill-color);\n",
              "    }\n",
              "    30% {\n",
              "      border-color: transparent;\n",
              "      border-left-color: var(--fill-color);\n",
              "      border-top-color: var(--fill-color);\n",
              "      border-right-color: var(--fill-color);\n",
              "    }\n",
              "    40% {\n",
              "      border-color: transparent;\n",
              "      border-right-color: var(--fill-color);\n",
              "      border-top-color: var(--fill-color);\n",
              "    }\n",
              "    60% {\n",
              "      border-color: transparent;\n",
              "      border-right-color: var(--fill-color);\n",
              "    }\n",
              "    80% {\n",
              "      border-color: transparent;\n",
              "      border-right-color: var(--fill-color);\n",
              "      border-bottom-color: var(--fill-color);\n",
              "    }\n",
              "    90% {\n",
              "      border-color: transparent;\n",
              "      border-bottom-color: var(--fill-color);\n",
              "    }\n",
              "  }\n",
              "</style>\n",
              "\n",
              "      <script>\n",
              "        async function quickchart(key) {\n",
              "          const quickchartButtonEl =\n",
              "            document.querySelector('#' + key + ' button');\n",
              "          quickchartButtonEl.disabled = true;  // To prevent multiple clicks.\n",
              "          quickchartButtonEl.classList.add('colab-df-spinner');\n",
              "          try {\n",
              "            const charts = await google.colab.kernel.invokeFunction(\n",
              "                'suggestCharts', [key], {});\n",
              "          } catch (error) {\n",
              "            console.error('Error during call to suggestCharts:', error);\n",
              "          }\n",
              "          quickchartButtonEl.classList.remove('colab-df-spinner');\n",
              "          quickchartButtonEl.classList.add('colab-df-quickchart-complete');\n",
              "        }\n",
              "        (() => {\n",
              "          let quickchartButtonEl =\n",
              "            document.querySelector('#df-83d0dbec-eda6-4290-b2b8-8fc66713bbe6 button');\n",
              "          quickchartButtonEl.style.display =\n",
              "            google.colab.kernel.accessAllowed ? 'block' : 'none';\n",
              "        })();\n",
              "      </script>\n",
              "    </div>\n",
              "\n",
              "    </div>\n",
              "  </div>\n"
            ],
            "application/vnd.google.colaboratory.intrinsic+json": {
              "type": "dataframe",
              "variable_name": "susy_sample",
              "summary": "{\n  \"name\": \"susy_sample\",\n  \"rows\": 100000,\n  \"fields\": [\n    {\n      \"column\": \"signal\",\n      \"properties\": {\n        \"dtype\": \"number\",\n        \"std\": 0.4982218548501381,\n        \"min\": 0.0,\n        \"max\": 1.0,\n        \"num_unique_values\": 2,\n        \"samples\": [\n          0.0,\n          1.0\n        ],\n        \"semantic_type\": \"\",\n        \"description\": \"\"\n      }\n    },\n    {\n      \"column\": \"lepton 1 pT\",\n      \"properties\": {\n        \"dtype\": \"number\",\n        \"std\": 0.6930969013660804,\n        \"min\": 0.2562157213687897,\n        \"max\": 12.304431915283203,\n        \"num_unique_values\": 93596,\n        \"samples\": [\n          0.3731389343738556,\n          0.4661690592765807\n        ],\n        \"semantic_type\": \"\",\n        \"description\": \"\"\n      }\n    },\n    {\n      \"column\": \"lepton 1 eta\",\n      \"properties\": {\n        \"dtype\": \"number\",\n        \"std\": 1.0010589386359334,\n        \"min\": -2.1028094291687007,\n        \"max\": 2.101470470428467,\n        \"num_unique_values\": 95746,\n        \"samples\": [\n          0.2892455458641052,\n          -0.22985601425170896\n        ],\n        \"semantic_type\": \"\",\n        \"description\": \"\"\n      }\n    },\n    {\n      \"column\": \"lepton 1 phi\",\n      \"properties\": {\n        \"dtype\": \"number\",\n        \"std\": 1.0011816330329812,\n        \"min\": -1.7347663640975952,\n        \"max\": 1.7348169088363647,\n        \"num_unique_values\": 94563,\n        \"samples\": [\n          -0.34621232748031616,\n          -1.2258949279785154\n        ],\n        \"semantic_type\": \"\",\n        \"description\": \"\"\n      }\n    },\n    {\n      \"column\": \"lepton 2 pT\",\n      \"properties\": {\n        \"dtype\": \"number\",\n        \"std\": 0.6576323728463221,\n        \"min\": 0.42860099673271174,\n        \"max\": 15.885646820068358,\n        \"num_unique_values\": 90837,\n        \"samples\": [\n          1.1899282932281496,\n          0.6741743087768554\n        ],\n        \"semantic_type\": \"\",\n        \"description\": \"\"\n      }\n    },\n    {\n      \"column\": \"lepton 2 eta\",\n      \"properties\": {\n        \"dtype\": \"number\",\n        \"std\": 1.0018709466688929,\n        \"min\": -2.059100389480591,\n        \"max\": 2.0596795082092285,\n        \"num_unique_values\": 95519,\n        \"samples\": [\n          -0.21515876054763794,\n          -1.799994945526123\n        ],\n        \"semantic_type\": \"\",\n        \"description\": \"\"\n      }\n    },\n    {\n      \"column\": \"lepton 2 phi\",\n      \"properties\": {\n        \"dtype\": \"number\",\n        \"std\": 1.0042518210924494,\n        \"min\": -1.7341910600662234,\n        \"max\": 1.7344542741775515,\n        \"num_unique_values\": 94543,\n        \"samples\": [\n          -1.1050168275833128,\n          -1.0589945316314695\n        ],\n        \"semantic_type\": \"\",\n        \"description\": \"\"\n      }\n    },\n    {\n      \"column\": \"missing energy magnitude\",\n      \"properties\": {\n        \"dtype\": \"number\",\n        \"std\": 0.8763352958944987,\n        \"min\": 0.004130096174776554,\n        \"max\": 19.20670890808105,\n        \"num_unique_values\": 94441,\n        \"samples\": [\n          0.4258687496185303,\n          6.417249202728272\n        ],\n        \"semantic_type\": \"\",\n        \"description\": \"\"\n      }\n    },\n    {\n      \"column\": \"missing energy phi\",\n      \"properties\": {\n        \"dtype\": \"number\",\n        \"std\": 1.00295980765409,\n        \"min\": -1.7270342111587522,\n        \"max\": 1.7406116724014282,\n        \"num_unique_values\": 94607,\n        \"samples\": [\n          1.4233962297439575,\n          0.4037322103977203\n        ],\n        \"semantic_type\": \"\",\n        \"description\": \"\"\n      }\n    },\n    {\n      \"column\": \"MET_rel\",\n      \"properties\": {\n        \"dtype\": \"number\",\n        \"std\": 0.8862270875835532,\n        \"min\": 2.0904483335471014e-06,\n        \"max\": 15.050180435180666,\n        \"num_unique_values\": 95608,\n        \"samples\": [\n          0.24392673373222354,\n          0.4643073379993439\n        ],\n        \"semantic_type\": \"\",\n        \"description\": \"\"\n      }\n    },\n    {\n      \"column\": \"axial MET\",\n      \"properties\": {\n        \"dtype\": \"number\",\n        \"std\": 1.0126263806970477,\n        \"min\": -10.870532989501951,\n        \"max\": 19.592195510864254,\n        \"num_unique_values\": 97101,\n        \"samples\": [\n          0.06670685857534409,\n          2.177589893341064\n        ],\n        \"semantic_type\": \"\",\n        \"description\": \"\"\n      }\n    },\n    {\n      \"column\": \"M_R\",\n      \"properties\": {\n        \"dtype\": \"number\",\n        \"std\": 0.6368422057871366,\n        \"min\": 0.2692064642906189,\n        \"max\": 16.76483154296875,\n        \"num_unique_values\": 88109,\n        \"samples\": [\n          1.740278363227844,\n          0.8195472359657286\n        ],\n        \"semantic_type\": \"\",\n        \"description\": \"\"\n      }\n    },\n    {\n      \"column\": \"M_TR_2\",\n      \"properties\": {\n        \"dtype\": \"number\",\n        \"std\": 0.5873991824268129,\n        \"min\": 0.01479506865143776,\n        \"max\": 11.758112907409668,\n        \"num_unique_values\": 93951,\n        \"samples\": [\n          0.4999992251396179,\n          0.26504033803939814\n        ],\n        \"semantic_type\": \"\",\n        \"description\": \"\"\n      }\n    },\n    {\n      \"column\": \"R\",\n      \"properties\": {\n        \"dtype\": \"number\",\n        \"std\": 0.4707065375547337,\n        \"min\": 0.019188078120350845,\n        \"max\": 4.655167579650879,\n        \"num_unique_values\": 94233,\n        \"samples\": [\n          2.024522304534912,\n          1.6602668762207031\n        ],\n        \"semantic_type\": \"\",\n        \"description\": \"\"\n      }\n    },\n    {\n      \"column\": \"MT2\",\n      \"properties\": {\n        \"dtype\": \"number\",\n        \"std\": 0.8582243517159139,\n        \"min\": 0.0,\n        \"max\": 9.799263954162596,\n        \"num_unique_values\": 75764,\n        \"samples\": [\n          1.1113200187683103,\n          0.8159193396568297\n        ],\n        \"semantic_type\": \"\",\n        \"description\": \"\"\n      }\n    },\n    {\n      \"column\": \"S_R\",\n      \"properties\": {\n        \"dtype\": \"number\",\n        \"std\": 0.6291203029969548,\n        \"min\": 0.06674416363239288,\n        \"max\": 16.824073791503906,\n        \"num_unique_values\": 89029,\n        \"samples\": [\n          0.6635077595710753,\n          0.8956006169319153\n        ],\n        \"semantic_type\": \"\",\n        \"description\": \"\"\n      }\n    },\n    {\n      \"column\": \"M_Delta_R\",\n      \"properties\": {\n        \"dtype\": \"number\",\n        \"std\": 0.6226781873483781,\n        \"min\": 0.005067847203463315,\n        \"max\": 7.526601791381837,\n        \"num_unique_values\": 94813,\n        \"samples\": [\n          0.14222219586372375,\n          0.7564558386802674\n        ],\n        \"semantic_type\": \"\",\n        \"description\": \"\"\n      }\n    },\n    {\n      \"column\": \"dPhi_r_b\",\n      \"properties\": {\n        \"dtype\": \"number\",\n        \"std\": 0.43583607532997193,\n        \"min\": 1.3365455743041819e-05,\n        \"max\": 1.5916547775268555,\n        \"num_unique_values\": 84404,\n        \"samples\": [\n          0.2709868252277374,\n          0.7855881452560425\n        ],\n        \"semantic_type\": \"\",\n        \"description\": \"\"\n      }\n    },\n    {\n      \"column\": \"cos(theta_r1)\",\n      \"properties\": {\n        \"dtype\": \"number\",\n        \"std\": 0.19718333403456553,\n        \"min\": 4.177089977019932e-06,\n        \"max\": 1.0,\n        \"num_unique_values\": 95065,\n        \"samples\": [\n          0.1875080019235611,\n          0.1265600025653839\n        ],\n        \"semantic_type\": \"\",\n        \"description\": \"\"\n      }\n    }\n  ]\n}"
            }
          },
          "metadata": {},
          "execution_count": 5
        }
      ],
      "source": [
        "susy_sample = pd.read_feather(DATA / \"susy_sample.feather\")\n",
        "susy_sample.head()"
      ]
    },
    {
      "cell_type": "code",
      "execution_count": 6,
      "metadata": {
        "id": "rQvPGljeMJPA"
      },
      "outputs": [],
      "source": [
        "# sanity check on number of events\n",
        "assert len(susy_sample) == 100_000"
      ]
    },
    {
      "cell_type": "markdown",
      "metadata": {
        "id": "la9f-db1MJPA"
      },
      "source": [
        "Next we create the feature matrix $X$ and target vector $y$, along with the training and validation sets:"
      ]
    },
    {
      "cell_type": "code",
      "execution_count": 7,
      "metadata": {
        "id": "ViBaRE2eMJPB",
        "outputId": "c0853a26-0342-432a-d153-3fed6a1b3494",
        "colab": {
          "base_uri": "https://localhost:8080/"
        }
      },
      "outputs": [
        {
          "output_type": "stream",
          "name": "stdout",
          "text": [
            "Dataset split: 80000 train rows + 20000 valid rows\n"
          ]
        }
      ],
      "source": [
        "X = susy_sample.drop(\"signal\", axis=1)\n",
        "y = susy_sample[\"signal\"]\n",
        "\n",
        "X_train, X_valid, y_train, y_valid = train_test_split(X, y, test_size=0.2, random_state=42)\n",
        "\n",
        "print(f\"Dataset split: {len(X_train)} train rows + {len(X_valid)} valid rows\")\n",
        "\n",
        "# pick 2 features to experiment with\n",
        "X_train_sub = X_train[[\"missing energy magnitude\", \"lepton 1 pT\"]].copy()\n",
        "X_valid_sub = X_valid[[\"missing energy magnitude\", \"lepton 1 pT\"]].copy()"
      ]
    },
    {
      "cell_type": "markdown",
      "metadata": {
        "id": "YXNQmue3MJPB"
      },
      "source": [
        "## Basic classes and functions"
      ]
    },
    {
      "cell_type": "markdown",
      "metadata": {
        "id": "51t1Qr6eMJPB"
      },
      "source": [
        "### Tree ensemble"
      ]
    },
    {
      "cell_type": "markdown",
      "metadata": {
        "id": "PRPCuJINMJPB"
      },
      "source": [
        "To get started, we need a data structure that will represent an ensemble of decision trees. As a first guess, the variables we'll need to initialise our ensemble might include:\n",
        "\n",
        "* `X`: the feature matrix\n",
        "* `y`: the target vector\n",
        "* `n_trees`: how many trees to include in the forest\n",
        "* `sample_size`: how big we want each sample to be\n",
        "* `min_samples_leaf`: some optional hyperparameter that controls the minimum number of samples required to be at a leaf node\n",
        "\n",
        "With these considerations, let's go ahead and build our ensemble class"
      ]
    },
    {
      "cell_type": "code",
      "execution_count": 8,
      "metadata": {
        "id": "RfuWeiu9MJPB"
      },
      "outputs": [],
      "source": [
        "class TreeEnsemble:\n",
        "    # instance attributes\n",
        "    def __init__(\n",
        "        self, X: np.ndarray, y: np.ndarray, n_trees: int, sample_size: int, min_samples_leaf: int = 5,\n",
        "    ):\n",
        "        # use constant random seed for testing\n",
        "        np.random.seed(42)\n",
        "        self.X = X\n",
        "        self.y = y\n",
        "        self.n_trees = n_trees\n",
        "        self.sample_size = sample_size\n",
        "        self.min_samples_leaf = min_samples_leaf\n",
        "\n",
        "        self.trees = [self.create_tree() for i in range(n_trees)]\n",
        "\n",
        "    # instance method\n",
        "    def create_tree(self):\n",
        "        # grab random subsample without replacement - no bootstrapping!\n",
        "        random_indices = np.random.permutation(len(self.y))[: self.sample_size]\n",
        "        return DecisionTree(\n",
        "            self.X.iloc[random_indices], self.y.iloc[random_indices], min_samples_leaf=self.min_samples_leaf,\n",
        "        )\n",
        "\n",
        "    # instance method\n",
        "    def predict(self, X):\n",
        "        return np.mean([t.predict(X) for t in self.trees], axis=0)"
      ]
    },
    {
      "cell_type": "markdown",
      "metadata": {
        "id": "wefzWikmMJPB"
      },
      "source": [
        "> Note: All classes in Python create objects, and all objects contain properties called attributes. We use the `__init__()` method to initialize an object’s initial attributes by giving them their default value. This method must have at least one argument as well as the `self` variable, which refers to the object itself (e.g., `TreeEnsemble`)."
      ]
    },
    {
      "cell_type": "markdown",
      "metadata": {
        "id": "B1bIDDLVMJPB"
      },
      "source": [
        "Next let's try to instantiate this class:"
      ]
    },
    {
      "cell_type": "code",
      "execution_count": 9,
      "metadata": {
        "id": "9Vhi_AlcMJPB",
        "outputId": "67abe150-f7c2-4b7d-9de7-53b027a8daaf",
        "colab": {
          "base_uri": "https://localhost:8080/",
          "height": 292
        }
      },
      "outputs": [
        {
          "output_type": "error",
          "ename": "NameError",
          "evalue": "name 'DecisionTree' is not defined",
          "traceback": [
            "\u001b[0;31m---------------------------------------------------------------------------\u001b[0m",
            "\u001b[0;31mNameError\u001b[0m                                 Traceback (most recent call last)",
            "\u001b[0;32m<ipython-input-9-1eba575a2685>\u001b[0m in \u001b[0;36m<cell line: 0>\u001b[0;34m()\u001b[0m\n\u001b[0;32m----> 1\u001b[0;31m \u001b[0mrf\u001b[0m \u001b[0;34m=\u001b[0m \u001b[0mTreeEnsemble\u001b[0m\u001b[0;34m(\u001b[0m\u001b[0mX_train_sub\u001b[0m\u001b[0;34m,\u001b[0m \u001b[0my_train\u001b[0m\u001b[0;34m,\u001b[0m \u001b[0mn_trees\u001b[0m\u001b[0;34m=\u001b[0m\u001b[0;36m10\u001b[0m\u001b[0;34m,\u001b[0m \u001b[0msample_size\u001b[0m\u001b[0;34m=\u001b[0m\u001b[0;36m1000\u001b[0m\u001b[0;34m,\u001b[0m \u001b[0mmin_samples_leaf\u001b[0m\u001b[0;34m=\u001b[0m\u001b[0;36m3\u001b[0m\u001b[0;34m)\u001b[0m\u001b[0;34m\u001b[0m\u001b[0;34m\u001b[0m\u001b[0m\n\u001b[0m",
            "\u001b[0;32m<ipython-input-8-35a8ae6ea2ce>\u001b[0m in \u001b[0;36m__init__\u001b[0;34m(self, X, y, n_trees, sample_size, min_samples_leaf)\u001b[0m\n\u001b[1;32m     12\u001b[0m         \u001b[0mself\u001b[0m\u001b[0;34m.\u001b[0m\u001b[0mmin_samples_leaf\u001b[0m \u001b[0;34m=\u001b[0m \u001b[0mmin_samples_leaf\u001b[0m\u001b[0;34m\u001b[0m\u001b[0;34m\u001b[0m\u001b[0m\n\u001b[1;32m     13\u001b[0m \u001b[0;34m\u001b[0m\u001b[0m\n\u001b[0;32m---> 14\u001b[0;31m         \u001b[0mself\u001b[0m\u001b[0;34m.\u001b[0m\u001b[0mtrees\u001b[0m \u001b[0;34m=\u001b[0m \u001b[0;34m[\u001b[0m\u001b[0mself\u001b[0m\u001b[0;34m.\u001b[0m\u001b[0mcreate_tree\u001b[0m\u001b[0;34m(\u001b[0m\u001b[0;34m)\u001b[0m \u001b[0;32mfor\u001b[0m \u001b[0mi\u001b[0m \u001b[0;32min\u001b[0m \u001b[0mrange\u001b[0m\u001b[0;34m(\u001b[0m\u001b[0mn_trees\u001b[0m\u001b[0;34m)\u001b[0m\u001b[0;34m]\u001b[0m\u001b[0;34m\u001b[0m\u001b[0;34m\u001b[0m\u001b[0m\n\u001b[0m\u001b[1;32m     15\u001b[0m \u001b[0;34m\u001b[0m\u001b[0m\n\u001b[1;32m     16\u001b[0m     \u001b[0;31m# instance method\u001b[0m\u001b[0;34m\u001b[0m\u001b[0;34m\u001b[0m\u001b[0m\n",
            "\u001b[0;32m<ipython-input-8-35a8ae6ea2ce>\u001b[0m in \u001b[0;36m<listcomp>\u001b[0;34m(.0)\u001b[0m\n\u001b[1;32m     12\u001b[0m         \u001b[0mself\u001b[0m\u001b[0;34m.\u001b[0m\u001b[0mmin_samples_leaf\u001b[0m \u001b[0;34m=\u001b[0m \u001b[0mmin_samples_leaf\u001b[0m\u001b[0;34m\u001b[0m\u001b[0;34m\u001b[0m\u001b[0m\n\u001b[1;32m     13\u001b[0m \u001b[0;34m\u001b[0m\u001b[0m\n\u001b[0;32m---> 14\u001b[0;31m         \u001b[0mself\u001b[0m\u001b[0;34m.\u001b[0m\u001b[0mtrees\u001b[0m \u001b[0;34m=\u001b[0m \u001b[0;34m[\u001b[0m\u001b[0mself\u001b[0m\u001b[0;34m.\u001b[0m\u001b[0mcreate_tree\u001b[0m\u001b[0;34m(\u001b[0m\u001b[0;34m)\u001b[0m \u001b[0;32mfor\u001b[0m \u001b[0mi\u001b[0m \u001b[0;32min\u001b[0m \u001b[0mrange\u001b[0m\u001b[0;34m(\u001b[0m\u001b[0mn_trees\u001b[0m\u001b[0;34m)\u001b[0m\u001b[0;34m]\u001b[0m\u001b[0;34m\u001b[0m\u001b[0;34m\u001b[0m\u001b[0m\n\u001b[0m\u001b[1;32m     15\u001b[0m \u001b[0;34m\u001b[0m\u001b[0m\n\u001b[1;32m     16\u001b[0m     \u001b[0;31m# instance method\u001b[0m\u001b[0;34m\u001b[0m\u001b[0;34m\u001b[0m\u001b[0m\n",
            "\u001b[0;32m<ipython-input-8-35a8ae6ea2ce>\u001b[0m in \u001b[0;36mcreate_tree\u001b[0;34m(self)\u001b[0m\n\u001b[1;32m     18\u001b[0m         \u001b[0;31m# grab random subsample without replacement - no bootstrapping!\u001b[0m\u001b[0;34m\u001b[0m\u001b[0;34m\u001b[0m\u001b[0m\n\u001b[1;32m     19\u001b[0m         \u001b[0mrandom_indices\u001b[0m \u001b[0;34m=\u001b[0m \u001b[0mnp\u001b[0m\u001b[0;34m.\u001b[0m\u001b[0mrandom\u001b[0m\u001b[0;34m.\u001b[0m\u001b[0mpermutation\u001b[0m\u001b[0;34m(\u001b[0m\u001b[0mlen\u001b[0m\u001b[0;34m(\u001b[0m\u001b[0mself\u001b[0m\u001b[0;34m.\u001b[0m\u001b[0my\u001b[0m\u001b[0;34m)\u001b[0m\u001b[0;34m)\u001b[0m\u001b[0;34m[\u001b[0m\u001b[0;34m:\u001b[0m \u001b[0mself\u001b[0m\u001b[0;34m.\u001b[0m\u001b[0msample_size\u001b[0m\u001b[0;34m]\u001b[0m\u001b[0;34m\u001b[0m\u001b[0;34m\u001b[0m\u001b[0m\n\u001b[0;32m---> 20\u001b[0;31m         return DecisionTree(\n\u001b[0m\u001b[1;32m     21\u001b[0m             \u001b[0mself\u001b[0m\u001b[0;34m.\u001b[0m\u001b[0mX\u001b[0m\u001b[0;34m.\u001b[0m\u001b[0miloc\u001b[0m\u001b[0;34m[\u001b[0m\u001b[0mrandom_indices\u001b[0m\u001b[0;34m]\u001b[0m\u001b[0;34m,\u001b[0m \u001b[0mself\u001b[0m\u001b[0;34m.\u001b[0m\u001b[0my\u001b[0m\u001b[0;34m.\u001b[0m\u001b[0miloc\u001b[0m\u001b[0;34m[\u001b[0m\u001b[0mrandom_indices\u001b[0m\u001b[0;34m]\u001b[0m\u001b[0;34m,\u001b[0m \u001b[0mmin_samples_leaf\u001b[0m\u001b[0;34m=\u001b[0m\u001b[0mself\u001b[0m\u001b[0;34m.\u001b[0m\u001b[0mmin_samples_leaf\u001b[0m\u001b[0;34m,\u001b[0m\u001b[0;34m\u001b[0m\u001b[0;34m\u001b[0m\u001b[0m\n\u001b[1;32m     22\u001b[0m         )\n",
            "\u001b[0;31mNameError\u001b[0m: name 'DecisionTree' is not defined"
          ]
        }
      ],
      "source": [
        "rf = TreeEnsemble(X_train_sub, y_train, n_trees=10, sample_size=1000, min_samples_leaf=3)"
      ]
    },
    {
      "cell_type": "markdown",
      "metadata": {
        "id": "rZx8pVBGMJPB"
      },
      "source": [
        "Oops! Our `TreeEnsemble` assumes we have a class called `DecisionTree`, so let's create a minimal version that will allow us to instantiate it:"
      ]
    },
    {
      "cell_type": "code",
      "execution_count": 10,
      "metadata": {
        "id": "Y-KVdN7yMJPB"
      },
      "outputs": [],
      "source": [
        "class DecisionTree:\n",
        "    def __init__(self, X: np.ndarray, y: np.ndarray, indices=None, min_samples_leaf: int = 5):\n",
        "        self.X = X\n",
        "        self.y = y\n",
        "        self.indices = indices\n",
        "        self.min_samples_leaf = min_samples_leaf"
      ]
    },
    {
      "cell_type": "code",
      "execution_count": 11,
      "metadata": {
        "id": "aRTLmtoOMJPC",
        "outputId": "e18273c4-27fe-461d-d3c6-f60d6ac19246",
        "colab": {
          "base_uri": "https://localhost:8080/"
        }
      },
      "outputs": [
        {
          "output_type": "execute_result",
          "data": {
            "text/plain": [
              "[<__main__.DecisionTree at 0x7ea0c25e5b90>,\n",
              " <__main__.DecisionTree at 0x7ea0c25e5fd0>,\n",
              " <__main__.DecisionTree at 0x7ea0c25e6410>,\n",
              " <__main__.DecisionTree at 0x7ea0c25e6850>,\n",
              " <__main__.DecisionTree at 0x7ea0c25e6c90>,\n",
              " <__main__.DecisionTree at 0x7ea0c25e7110>,\n",
              " <__main__.DecisionTree at 0x7ea0c25e7550>,\n",
              " <__main__.DecisionTree at 0x7ea0c25e7990>,\n",
              " <__main__.DecisionTree at 0x7ea0c25e7f10>,\n",
              " <__main__.DecisionTree at 0x7ea0c03944d0>]"
            ]
          },
          "metadata": {},
          "execution_count": 11
        }
      ],
      "source": [
        "rf = TreeEnsemble(X_train_sub, y_train, n_trees=10, sample_size=1000, min_samples_leaf=3)\n",
        "# test we can access attributes\n",
        "rf.trees"
      ]
    },
    {
      "cell_type": "markdown",
      "metadata": {
        "id": "I6l5bhqnMJPC"
      },
      "source": [
        "### Decision tree"
      ]
    },
    {
      "cell_type": "markdown",
      "metadata": {
        "id": "GWY5CkNCMJPC"
      },
      "source": [
        "Our `DecisionTree` class doesn't do anything yet, so let's add some logic to flesh it out. In addition to passing `X`, `y`, and `min_samples_leaf` to the constructor, we also need to keep track of which row indices are passed to the left- and right-hand sides of the tree. Since the root node contains all the rows, we can use `None` as a default and set `indices` to the length of `y`:"
      ]
    },
    {
      "cell_type": "code",
      "execution_count": 12,
      "metadata": {
        "id": "1Jw0ngeHMJPC"
      },
      "outputs": [],
      "source": [
        "class DecisionTree:\n",
        "    def __init__(self, X: np.ndarray, y: np.ndarray, indices: np.ndarray = None, min_samples_leaf: int = 5):\n",
        "        # use all rows for root node\n",
        "        if indices is None:\n",
        "            indices = np.arange(len(y))\n",
        "\n",
        "        self.X = X\n",
        "        self.y = y\n",
        "        self.indices = indices\n",
        "        self.min_samples_leaf = min_samples_leaf\n",
        "\n",
        "        self.n_samples, self.n_features = len(indices), X.shape[1]\n",
        "        self.value = self.calculate_class_probabilities(self.y, self.indices)\n",
        "        self.gini = self.gini_impurity(self.y)\n",
        "        self.score = float(\"inf\")\n",
        "        self.find_feature_split()\n",
        "\n",
        "    # this just does one decision - we'll make it recursive later\n",
        "    def find_feature_split(self):\n",
        "        for i in range(self.n_features):\n",
        "            self.find_better_split(i)\n",
        "\n",
        "    # we'll write this later!\n",
        "    def find_better_split(self, feature_index):\n",
        "        pass\n",
        "\n",
        "    # we'll write this later!\n",
        "    def calculate_class_probabilities(self, y, indices):\n",
        "        pass\n",
        "\n",
        "    # we'll write this later!\n",
        "    def gini_impurity(self, y):\n",
        "        pass\n",
        "\n",
        "    @property\n",
        "    def split_name(self):\n",
        "        return self.X.columns[self.feature_index]\n",
        "\n",
        "    @property\n",
        "    def split_feature(self):\n",
        "        return self.X.values[self.indices, self.feature_index]\n",
        "\n",
        "    @property\n",
        "    def is_leaf(self):\n",
        "        return self.score == float(\"inf\")\n",
        "\n",
        "    # convert object to string - see https://dbader.org/blog/python-repr-vs-str\n",
        "    def __repr__(self):\n",
        "        s = f\"n_samples: {self.n_samples}; value: {self.value}; gini: {self.gini}\"\n",
        "        if not self.is_leaf:\n",
        "            s += f\"; score: {self.score}; feature: {self.split_name}; split_point: {self.split}\"\n",
        "        return s"
      ]
    },
    {
      "cell_type": "markdown",
      "metadata": {
        "id": "-2omN45OMJPC"
      },
      "source": [
        "Next let's check we can instantiate the ensemble and access the first decision tree:"
      ]
    },
    {
      "cell_type": "code",
      "execution_count": 13,
      "metadata": {
        "id": "4xi8Y9YLMJPC",
        "outputId": "fb6d021b-22fd-4f84-84c7-e3078d71fe5b",
        "colab": {
          "base_uri": "https://localhost:8080/"
        }
      },
      "outputs": [
        {
          "output_type": "execute_result",
          "data": {
            "text/plain": [
              "n_samples: 1000; value: None; gini: None"
            ]
          },
          "metadata": {},
          "execution_count": 13
        }
      ],
      "source": [
        "rf = TreeEnsemble(X_train_sub, y_train, n_trees=10, sample_size=1000, min_samples_leaf=3)\n",
        "rf.trees[0]"
      ]
    },
    {
      "cell_type": "markdown",
      "metadata": {
        "id": "GjQ9sjXEMJPC"
      },
      "source": [
        "It works! Our `__repr__` method now returns useful information about the attributes of the class instance, but we still need to implement methods for the class probabilities and Gini impurity. Let's consider each one in turn."
      ]
    },
    {
      "cell_type": "markdown",
      "metadata": {
        "id": "iA9Tc0VnMJPC"
      },
      "source": [
        "### Class probabilities"
      ]
    },
    {
      "cell_type": "markdown",
      "metadata": {
        "id": "9L8_7FpbMJPG"
      },
      "source": [
        "In order to average the predictions across multiple trees in our forest, we need know what percentage of a given leaf node contains signal events and what percentage contains background. A simple way to do that is via the `np.unique` method, e.g."
      ]
    },
    {
      "cell_type": "code",
      "execution_count": 14,
      "metadata": {
        "id": "VrQYpBMXMJPH",
        "outputId": "81834f20-46fd-4f66-879a-3dfef7507d34",
        "colab": {
          "base_uri": "https://localhost:8080/"
        }
      },
      "outputs": [
        {
          "output_type": "execute_result",
          "data": {
            "text/plain": [
              "(array([0., 1.]), array([43374, 36626]))"
            ]
          },
          "metadata": {},
          "execution_count": 14
        }
      ],
      "source": [
        "# returns tuple - (class_labels, class_counts)\n",
        "np.unique(y_train, return_counts=True)"
      ]
    },
    {
      "cell_type": "markdown",
      "metadata": {
        "id": "DArnK5awMJPH"
      },
      "source": [
        "This is not quite what we need because it just provides the raw counts, so let's normalise them as follows:"
      ]
    },
    {
      "cell_type": "code",
      "execution_count": 15,
      "metadata": {
        "id": "1fBBSkNcMJPH",
        "outputId": "29564231-7501-4777-c8eb-c7e7d44df645",
        "colab": {
          "base_uri": "https://localhost:8080/"
        }
      },
      "outputs": [
        {
          "output_type": "execute_result",
          "data": {
            "text/plain": [
              "array([0.542175, 0.457825])"
            ]
          },
          "metadata": {},
          "execution_count": 15
        }
      ],
      "source": [
        "np.unique(y_train, return_counts=True)[1] / len(y_train)"
      ]
    },
    {
      "cell_type": "markdown",
      "metadata": {
        "id": "r6dAbVXtMJPH"
      },
      "source": [
        "We can wrap this in a single function that also handles the cases where we only have one sample in a leaf node:"
      ]
    },
    {
      "cell_type": "code",
      "execution_count": 16,
      "metadata": {
        "id": "RQ2PS1qAMJPH"
      },
      "outputs": [],
      "source": [
        "def calculate_class_probabilities(self, y: pd.Series, indices: np.ndarray):\n",
        "    probs = np.unique(y.iloc[indices], return_counts=True)[1] / len(y.iloc[indices])\n",
        "\n",
        "    # handle edge case when leaf only contains one sample\n",
        "    if len(probs) == 1:\n",
        "        if int(y.iloc[indices].values[0]) == 0:\n",
        "            value = np.array([1.0, 0.0])\n",
        "        else:\n",
        "            value = np.array([0.0, 1.0])\n",
        "    else:\n",
        "        value = probs\n",
        "\n",
        "    return value"
      ]
    },
    {
      "cell_type": "markdown",
      "metadata": {
        "id": "9nW793qXMJPH"
      },
      "source": [
        "We can now use this function to override our class method as follows:"
      ]
    },
    {
      "cell_type": "code",
      "execution_count": 17,
      "metadata": {
        "id": "-Vpui83kMJPH"
      },
      "outputs": [],
      "source": [
        "DecisionTree.calculate_class_probabilities = calculate_class_probabilities"
      ]
    },
    {
      "cell_type": "markdown",
      "metadata": {
        "id": "LGu05mojMJPH"
      },
      "source": [
        "Finally, let's check that the function works as intended:"
      ]
    },
    {
      "cell_type": "code",
      "execution_count": 18,
      "metadata": {
        "id": "7drAO6EhMJPH",
        "outputId": "8297fb95-3fc5-40da-9701-1ea530091816",
        "colab": {
          "base_uri": "https://localhost:8080/"
        }
      },
      "outputs": [
        {
          "output_type": "execute_result",
          "data": {
            "text/plain": [
              "n_samples: 1000; value: [0.516 0.484]; gini: None"
            ]
          },
          "metadata": {},
          "execution_count": 18
        }
      ],
      "source": [
        "rf = TreeEnsemble(X_train_sub, y_train, n_trees=10, sample_size=1000, min_samples_leaf=3)\n",
        "rf.trees[0]"
      ]
    },
    {
      "cell_type": "markdown",
      "metadata": {
        "id": "WiXvJME8MJPI"
      },
      "source": [
        "### Gini impurity"
      ]
    },
    {
      "cell_type": "markdown",
      "metadata": {
        "id": "XwjBiVIeMJPI"
      },
      "source": [
        "The next piece of information we need to calculate is the Gini impurity at a given node in the tree. Recall that the formula for Gini impurity is\n",
        "\n",
        "$$ G_i = 1 - \\sum_{k=1}^n p_{i,k}^2 $$\n",
        "\n",
        "where $p_{i,k}$ is the ratio of class $k$ examples among the training examples in the ith node. We can get the values of $p_{i,k}$ by using the `np.unique` method again, e.g."
      ]
    },
    {
      "cell_type": "code",
      "execution_count": 19,
      "metadata": {
        "id": "Ss6A6El3MJPI",
        "outputId": "c25fab8b-e7ee-41cf-90df-734ba50e1793",
        "colab": {
          "base_uri": "https://localhost:8080/"
        }
      },
      "outputs": [
        {
          "output_type": "stream",
          "name": "stdout",
          "text": [
            "Gini pure = 0.0; Gini mixed = 0.5\n"
          ]
        }
      ],
      "source": [
        "y_pure = np.array([1, 1, 1, 1])\n",
        "y_mixed = np.array([1, 0, 1, 0])\n",
        "\n",
        "gini_pure = 1.0 - np.sum((np.unique(y_pure, return_counts=True)[1] / len(y_pure)) ** 2)\n",
        "gini_mixed = 1.0 - np.sum((np.unique(y_mixed, return_counts=True)[1] / len(y_mixed)) ** 2)\n",
        "\n",
        "print(f\"Gini pure = {gini_pure}; Gini mixed = {gini_mixed}\")"
      ]
    },
    {
      "cell_type": "markdown",
      "metadata": {
        "id": "ccj4M6lXMJPI"
      },
      "source": [
        "Let's wrap this logic in a function and override the one defined in our `DecisionTree` class:"
      ]
    },
    {
      "cell_type": "code",
      "execution_count": 20,
      "metadata": {
        "id": "jbz-dS4KMJPI"
      },
      "outputs": [],
      "source": [
        "def gini_impurity(self, y):\n",
        "    return 1.0 - np.sum((np.unique(y, return_counts=True)[1] / len(y)) ** 2)\n",
        "\n",
        "\n",
        "DecisionTree.gini_impurity = gini_impurity"
      ]
    },
    {
      "cell_type": "markdown",
      "metadata": {
        "id": "2R_vZYo9MJPI"
      },
      "source": [
        "As before, we do a sanity check to see whether it works:"
      ]
    },
    {
      "cell_type": "code",
      "execution_count": 21,
      "metadata": {
        "id": "ye8iL3dpMJPI",
        "outputId": "6701acb9-4090-48e1-ca34-524c80c4ccde",
        "colab": {
          "base_uri": "https://localhost:8080/"
        }
      },
      "outputs": [
        {
          "output_type": "execute_result",
          "data": {
            "text/plain": [
              "n_samples: 1000; value: [0.516 0.484]; gini: 0.49948800000000004"
            ]
          },
          "metadata": {},
          "execution_count": 21
        }
      ],
      "source": [
        "rf = TreeEnsemble(X_train_sub, y_train, n_trees=10, sample_size=1000, min_samples_leaf=3)\n",
        "rf.trees[0]"
      ]
    },
    {
      "cell_type": "markdown",
      "metadata": {
        "id": "Smsc7_RIMJPI"
      },
      "source": [
        "🎉🎉🎉"
      ]
    },
    {
      "cell_type": "markdown",
      "metadata": {
        "id": "OFgSvJxLMJPI"
      },
      "source": [
        "## Finding the best split on a single branch"
      ]
    },
    {
      "cell_type": "markdown",
      "metadata": {
        "id": "E2w80l0bMJPI"
      },
      "source": [
        "Now that we are able to calculate the probabilities and Gini impurity of a Decision Tree's node, the next step is to implement the logic for the `find_better_split` function. To test that we are on the right track, let us first feed the same random sample from our ensemble to scikit-learns' `RandomForestClassifier`:"
      ]
    },
    {
      "cell_type": "code",
      "execution_count": 22,
      "metadata": {
        "id": "c7mIECQTMJPI",
        "outputId": "7c886446-40c6-4523-ff50-0f451000bece",
        "colab": {
          "base_uri": "https://localhost:8080/"
        }
      },
      "outputs": [
        {
          "output_type": "execute_result",
          "data": {
            "text/plain": [
              "Index(['missing energy magnitude', 'lepton 1 pT'], dtype='object')"
            ]
          },
          "metadata": {},
          "execution_count": 22
        }
      ],
      "source": [
        "# create ensemble with 1 tree\n",
        "rf = TreeEnsemble(X_train_sub, y_train, n_trees=1, sample_size=1000)\n",
        "# extract DecisionTree instance\n",
        "tree = rf.trees[0]\n",
        "# extract sample associated with the Decision Tree\n",
        "X_samp, y_samp = tree.X, tree.y\n",
        "X_samp.columns"
      ]
    },
    {
      "cell_type": "code",
      "execution_count": 23,
      "metadata": {
        "id": "hjBFsNyQMJPJ",
        "outputId": "f9b2475e-9ccf-4e0a-caba-b9356083a295",
        "colab": {
          "base_uri": "https://localhost:8080/",
          "height": 92
        }
      },
      "outputs": [
        {
          "output_type": "execute_result",
          "data": {
            "text/plain": [
              "RandomForestClassifier(bootstrap=False, max_depth=1, max_features=None,\n",
              "                       n_estimators=1, random_state=42)"
            ],
            "text/html": [
              "<style>#sk-container-id-1 {color: black;}#sk-container-id-1 pre{padding: 0;}#sk-container-id-1 div.sk-toggleable {background-color: white;}#sk-container-id-1 label.sk-toggleable__label {cursor: pointer;display: block;width: 100%;margin-bottom: 0;padding: 0.3em;box-sizing: border-box;text-align: center;}#sk-container-id-1 label.sk-toggleable__label-arrow:before {content: \"▸\";float: left;margin-right: 0.25em;color: #696969;}#sk-container-id-1 label.sk-toggleable__label-arrow:hover:before {color: black;}#sk-container-id-1 div.sk-estimator:hover label.sk-toggleable__label-arrow:before {color: black;}#sk-container-id-1 div.sk-toggleable__content {max-height: 0;max-width: 0;overflow: hidden;text-align: left;background-color: #f0f8ff;}#sk-container-id-1 div.sk-toggleable__content pre {margin: 0.2em;color: black;border-radius: 0.25em;background-color: #f0f8ff;}#sk-container-id-1 input.sk-toggleable__control:checked~div.sk-toggleable__content {max-height: 200px;max-width: 100%;overflow: auto;}#sk-container-id-1 input.sk-toggleable__control:checked~label.sk-toggleable__label-arrow:before {content: \"▾\";}#sk-container-id-1 div.sk-estimator input.sk-toggleable__control:checked~label.sk-toggleable__label {background-color: #d4ebff;}#sk-container-id-1 div.sk-label input.sk-toggleable__control:checked~label.sk-toggleable__label {background-color: #d4ebff;}#sk-container-id-1 input.sk-hidden--visually {border: 0;clip: rect(1px 1px 1px 1px);clip: rect(1px, 1px, 1px, 1px);height: 1px;margin: -1px;overflow: hidden;padding: 0;position: absolute;width: 1px;}#sk-container-id-1 div.sk-estimator {font-family: monospace;background-color: #f0f8ff;border: 1px dotted black;border-radius: 0.25em;box-sizing: border-box;margin-bottom: 0.5em;}#sk-container-id-1 div.sk-estimator:hover {background-color: #d4ebff;}#sk-container-id-1 div.sk-parallel-item::after {content: \"\";width: 100%;border-bottom: 1px solid gray;flex-grow: 1;}#sk-container-id-1 div.sk-label:hover label.sk-toggleable__label {background-color: #d4ebff;}#sk-container-id-1 div.sk-serial::before {content: \"\";position: absolute;border-left: 1px solid gray;box-sizing: border-box;top: 0;bottom: 0;left: 50%;z-index: 0;}#sk-container-id-1 div.sk-serial {display: flex;flex-direction: column;align-items: center;background-color: white;padding-right: 0.2em;padding-left: 0.2em;position: relative;}#sk-container-id-1 div.sk-item {position: relative;z-index: 1;}#sk-container-id-1 div.sk-parallel {display: flex;align-items: stretch;justify-content: center;background-color: white;position: relative;}#sk-container-id-1 div.sk-item::before, #sk-container-id-1 div.sk-parallel-item::before {content: \"\";position: absolute;border-left: 1px solid gray;box-sizing: border-box;top: 0;bottom: 0;left: 50%;z-index: -1;}#sk-container-id-1 div.sk-parallel-item {display: flex;flex-direction: column;z-index: 1;position: relative;background-color: white;}#sk-container-id-1 div.sk-parallel-item:first-child::after {align-self: flex-end;width: 50%;}#sk-container-id-1 div.sk-parallel-item:last-child::after {align-self: flex-start;width: 50%;}#sk-container-id-1 div.sk-parallel-item:only-child::after {width: 0;}#sk-container-id-1 div.sk-dashed-wrapped {border: 1px dashed gray;margin: 0 0.4em 0.5em 0.4em;box-sizing: border-box;padding-bottom: 0.4em;background-color: white;}#sk-container-id-1 div.sk-label label {font-family: monospace;font-weight: bold;display: inline-block;line-height: 1.2em;}#sk-container-id-1 div.sk-label-container {text-align: center;}#sk-container-id-1 div.sk-container {/* jupyter's `normalize.less` sets `[hidden] { display: none; }` but bootstrap.min.css set `[hidden] { display: none !important; }` so we also need the `!important` here to be able to override the default hidden behavior on the sphinx rendered scikit-learn.org. See: https://github.com/scikit-learn/scikit-learn/issues/21755 */display: inline-block !important;position: relative;}#sk-container-id-1 div.sk-text-repr-fallback {display: none;}</style><div id=\"sk-container-id-1\" class=\"sk-top-container\"><div class=\"sk-text-repr-fallback\"><pre>RandomForestClassifier(bootstrap=False, max_depth=1, max_features=None,\n",
              "                       n_estimators=1, random_state=42)</pre><b>In a Jupyter environment, please rerun this cell to show the HTML representation or trust the notebook. <br />On GitHub, the HTML representation is unable to render, please try loading this page with nbviewer.org.</b></div><div class=\"sk-container\" hidden><div class=\"sk-item\"><div class=\"sk-estimator sk-toggleable\"><input class=\"sk-toggleable__control sk-hidden--visually\" id=\"sk-estimator-id-1\" type=\"checkbox\" checked><label for=\"sk-estimator-id-1\" class=\"sk-toggleable__label sk-toggleable__label-arrow\">RandomForestClassifier</label><div class=\"sk-toggleable__content\"><pre>RandomForestClassifier(bootstrap=False, max_depth=1, max_features=None,\n",
              "                       n_estimators=1, random_state=42)</pre></div></div></div></div></div>"
            ]
          },
          "metadata": {},
          "execution_count": 23
        }
      ],
      "source": [
        "# create Decision Tree with same configuration as our algorithm\n",
        "model = RandomForestClassifier(n_estimators=1, max_depth=1, bootstrap=False, random_state=42, max_features=None)\n",
        "model.fit(X_samp, y_samp)"
      ]
    },
    {
      "cell_type": "markdown",
      "metadata": {
        "id": "oOzuFHSXMJPJ"
      },
      "source": [
        "To aid with the comarison, let's also create a plotting function so we can visualise the nodes of our decision trees:"
      ]
    },
    {
      "cell_type": "code",
      "execution_count": 24,
      "metadata": {
        "id": "m3j0Rv6oMJPJ"
      },
      "outputs": [],
      "source": [
        "def draw_tree(fitted_model):\n",
        "    # get column names\n",
        "    feature_names = X_train_sub.columns\n",
        "    # define class names\n",
        "    class_names = [\"Background\", \"Signal\"]\n",
        "    fig, ax = plt.subplots(figsize=(30, 10))\n",
        "    # generate tree plot\n",
        "    plot_tree(\n",
        "        fitted_model.estimators_[0],\n",
        "        filled=True,\n",
        "        feature_names=feature_names,\n",
        "        class_names=class_names,\n",
        "        ax=ax,\n",
        "        fontsize=18,\n",
        "        proportion=True,\n",
        "    )\n",
        "    plt.show()"
      ]
    },
    {
      "cell_type": "code",
      "execution_count": 25,
      "metadata": {
        "id": "52IO3S4yMJPJ",
        "outputId": "dfb011e2-ced1-41ef-ec7e-d6bfdba38e3d",
        "colab": {
          "base_uri": "https://localhost:8080/",
          "height": 493
        }
      },
      "outputs": [
        {
          "output_type": "display_data",
          "data": {
            "text/plain": [
              "<Figure size 3000x1000 with 1 Axes>"
            ],
            "image/png": "[encoded data removed]"
          },
          "metadata": {}
        }
      ],
      "source": [
        "draw_tree(model)"
      ]
    },
    {
      "cell_type": "markdown",
      "metadata": {
        "id": "XKdJfgNZMJPJ"
      },
      "source": [
        "To recreate this split, recall that scikit-learn uses the Classification And Regression Tree (CART) algorithm to train Decision Trees. Here the key idea is to search for the pair `(feature, split_point)` the produces the purest subsets, as measured by their Gini impurity. The function to minimise is given by\n",
        "\n",
        "$$ J(k, t_k) = \\frac{m_\\mathrm{left}}{m} G_\\mathrm{left} + \\frac{m_\\mathrm{right}}{m}G_\\mathrm{right} $$\n",
        "\n",
        "where $k$ is a single feature, $t_k$ is the split point (e.g. \"missing energy magnitude $\\leq$ 1.14), $m_\\mathrm{left/right}$ is the number of examples in the left/right subset, and $G_\\mathrm{left/right}$ is the Gini impurity. Thus for each feature $k$, the strategy will be to calculate $J(k, t_k)$ for every possible split point $t_k$ and update the score if it less than what we have seen already. Implemented as code, the result could look like:"
      ]
    },
    {
      "cell_type": "code",
      "execution_count": 26,
      "metadata": {
        "id": "P9QAyw73MJPJ"
      },
      "outputs": [],
      "source": [
        "def find_better_split(self, feature_index):\n",
        "    # get sample for a single feature\n",
        "    X, y = self.X.values[self.indices, feature_index], self.y.iloc[self.indices]\n",
        "\n",
        "    for t in range(self.n_samples):\n",
        "        # create boolean masks for samples above / below the split point t\n",
        "        lhs = X <= X[t]\n",
        "        rhs = X > X[t]\n",
        "\n",
        "        # continue if stopping criterion not reached\n",
        "        if rhs.sum() < self.min_samples_leaf or lhs.sum() < self.min_samples_leaf:\n",
        "            continue\n",
        "\n",
        "        # calculate Gini impurities for left and right nodes\n",
        "        lhs_gini = gini_impurity(self, y[lhs])\n",
        "        rhs_gini = gini_impurity(self, y[rhs])\n",
        "        # calculate score for current split point\n",
        "        curr_score = lhs_gini * len(y[lhs]) / len(y) + rhs_gini * len(y[rhs]) / len(y)\n",
        "        # update attributes if new score is smaller than old\n",
        "        if curr_score < self.score:\n",
        "            self.feature_index, self.score, self.split, self.gini = (\n",
        "                feature_index,\n",
        "                curr_score,\n",
        "                X[t],\n",
        "                gini_impurity(self, y),\n",
        "            )"
      ]
    },
    {
      "cell_type": "markdown",
      "metadata": {
        "id": "8ok3sc04MJPJ"
      },
      "source": [
        "Let's check this works by first calculating the best split point for `lepton 1 pT`:"
      ]
    },
    {
      "cell_type": "code",
      "execution_count": 27,
      "metadata": {
        "id": "xc9x9TfiMJPJ",
        "outputId": "6f298643-3929-4d5f-8355-7ea79d93ea90",
        "colab": {
          "base_uri": "https://localhost:8080/"
        }
      },
      "outputs": [
        {
          "output_type": "stream",
          "name": "stdout",
          "text": [
            "504 ms ± 74.8 ms per loop (mean ± std. dev. of 7 runs, 1 loop each)\n"
          ]
        },
        {
          "output_type": "execute_result",
          "data": {
            "text/plain": [
              "n_samples: 1000; value: [0.516 0.484]; gini: 0.49948800000000004; score: 0.406274337005304; feature: lepton 1 pT; split_point: 0.8724983930587769"
            ]
          },
          "metadata": {},
          "execution_count": 27
        }
      ],
      "source": [
        "%timeit find_better_split(tree, feature_index=1)\n",
        "tree"
      ]
    },
    {
      "cell_type": "markdown",
      "metadata": {
        "id": "IgWZ__UsMJPJ"
      },
      "source": [
        "Similarly for `missing energy magnitude` we find:"
      ]
    },
    {
      "cell_type": "code",
      "execution_count": 28,
      "metadata": {
        "id": "Z4BDBzjRMJPJ",
        "outputId": "ef42553d-f3f8-4968-8530-de7c59e8c5a0",
        "colab": {
          "base_uri": "https://localhost:8080/"
        }
      },
      "outputs": [
        {
          "output_type": "execute_result",
          "data": {
            "text/plain": [
              "n_samples: 1000; value: [0.516 0.484]; gini: 0.49948800000000004; score: 0.3864820927729048; feature: missing energy magnitude; split_point: 1.1392959356307983"
            ]
          },
          "metadata": {},
          "execution_count": 28
        }
      ],
      "source": [
        "find_better_split(tree, feature_index=0)\n",
        "tree"
      ]
    },
    {
      "cell_type": "markdown",
      "metadata": {
        "id": "V5dpgvB9MJPJ"
      },
      "source": [
        "It works! We see that `missing energy magnitude` has a lower score (i.e. cost $J$) than `lepton 1 pT`, and produces class probabilities and a Gini impurity consistent with scikit-learn. The downside is that our implementation is _slow_ - we can do better."
      ]
    },
    {
      "cell_type": "markdown",
      "metadata": {
        "id": "SDkG4lnNMJPJ"
      },
      "source": [
        "### Speeding things up"
      ]
    },
    {
      "cell_type": "markdown",
      "metadata": {
        "id": "OqTF16M1MJPJ"
      },
      "source": [
        "One problem with our implementation above is that we're repeatedly checking whether every value is greater or less than a given split point $t_k$. We can speed up the algorithm by first _sorting_ the arrays and then observing that we can compute the Gini impurities efficiently by finding the index that separates the two groups (i.e. signal vs background).\n",
        "\n",
        "To that end, let's reset our Decision Tree:"
      ]
    },
    {
      "cell_type": "code",
      "execution_count": 29,
      "metadata": {
        "id": "shJdwp8zMJPJ"
      },
      "outputs": [],
      "source": [
        "tree = TreeEnsemble(X_train_sub, y_train, 1, 1000).trees[0]"
      ]
    },
    {
      "cell_type": "code",
      "execution_count": 30,
      "metadata": {
        "id": "ASxiTcyPMJPK"
      },
      "outputs": [],
      "source": [
        "def find_better_split(self, feature_index):\n",
        "    X, y = self.X.values[self.indices, feature_index], self.y.values[self.indices]\n",
        "\n",
        "    sorted_indices = np.argsort(X)\n",
        "    y_sorted, X_sorted = y[sorted_indices], X[sorted_indices]\n",
        "    index = 0\n",
        "\n",
        "    for i in range(0, self.n_samples - self.min_samples_leaf):\n",
        "        index += 1\n",
        "        Xi = X_sorted[i]\n",
        "        # continue if stopping criterion not reached\n",
        "        if i < self.min_samples_leaf - 1 or Xi == X_sorted[i + 1]:\n",
        "            continue\n",
        "\n",
        "        # calculate Gini impurities for left and right nodes\n",
        "        lhs_gini = gini_impurity(self, y_sorted[:index])\n",
        "        rhs_gini = gini_impurity(self, y_sorted[index:])\n",
        "        # calculate score for current split point\n",
        "        curr_score = lhs_gini * len(y_sorted[:index]) / len(y_sorted) + rhs_gini * len(y_sorted[index:]) / len(y_sorted)\n",
        "        # update attributes if new score is smaller than old\n",
        "        if curr_score < self.score:\n",
        "            self.feature_index, self.score, self.split, self.gini = (\n",
        "                feature_index,\n",
        "                curr_score,\n",
        "                X_sorted[i],\n",
        "                gini_impurity(self, y),\n",
        "            )"
      ]
    },
    {
      "cell_type": "code",
      "execution_count": 31,
      "metadata": {
        "id": "coVfL-I6MJPK",
        "outputId": "044ed3e9-583b-4838-9a35-0776a3a44bc9",
        "colab": {
          "base_uri": "https://localhost:8080/"
        }
      },
      "outputs": [
        {
          "output_type": "stream",
          "name": "stdout",
          "text": [
            "88.9 ms ± 13.9 ms per loop (mean ± std. dev. of 7 runs, 10 loops each)\n"
          ]
        },
        {
          "output_type": "execute_result",
          "data": {
            "text/plain": [
              "n_samples: 1000; value: [0.516 0.484]; gini: 0.49948800000000004; score: 0.406274337005304; feature: lepton 1 pT; split_point: 0.8724983930587769"
            ]
          },
          "metadata": {},
          "execution_count": 31
        }
      ],
      "source": [
        "%timeit find_better_split(tree, feature_index=1)\n",
        "tree"
      ]
    },
    {
      "cell_type": "markdown",
      "metadata": {
        "id": "6FpUf6QjMJPK"
      },
      "source": [
        "Not bad - we've reduced the complexity of our original algorithm from $O(n^2)$ to $O(n)$ to gain roughly a factor of 60x speed up! Let's check we recover the same result for `missing energy magnitude` as before:"
      ]
    },
    {
      "cell_type": "code",
      "execution_count": 32,
      "metadata": {
        "id": "i__nBtuoMJPK",
        "outputId": "0f3d48de-810b-40fb-ea21-ee9c7dceceab",
        "colab": {
          "base_uri": "https://localhost:8080/"
        }
      },
      "outputs": [
        {
          "output_type": "execute_result",
          "data": {
            "text/plain": [
              "n_samples: 1000; value: [0.516 0.484]; gini: 0.49948800000000004; score: 0.3864820927729048; feature: missing energy magnitude; split_point: 1.1392959356307983"
            ]
          },
          "metadata": {},
          "execution_count": 32
        }
      ],
      "source": [
        "find_better_split(tree, feature_index=0)\n",
        "tree"
      ]
    },
    {
      "cell_type": "markdown",
      "metadata": {
        "id": "N_tlxRQpMJPK"
      },
      "source": [
        "Finally, we can override the function in our `DecisionTree` class so we can access it from our `TreeEnsemble`:"
      ]
    },
    {
      "cell_type": "code",
      "execution_count": 33,
      "metadata": {
        "id": "GY5zzyANMJPK"
      },
      "outputs": [],
      "source": [
        "DecisionTree.find_better_split = find_better_split"
      ]
    },
    {
      "cell_type": "code",
      "execution_count": 34,
      "metadata": {
        "id": "YQU801ZIMJPK",
        "outputId": "44fd1476-9694-4f2d-fac3-06909d8fc7eb",
        "colab": {
          "base_uri": "https://localhost:8080/"
        }
      },
      "outputs": [
        {
          "output_type": "execute_result",
          "data": {
            "text/plain": [
              "n_samples: 1000; value: [0.516 0.484]; gini: 0.49948800000000004; score: 0.3864820927729048; feature: missing energy magnitude; split_point: 1.1392959356307983"
            ]
          },
          "metadata": {},
          "execution_count": 34
        }
      ],
      "source": [
        "tree = TreeEnsemble(X_train, y_train, 1, 1000).trees[0]\n",
        "tree"
      ]
    },
    {
      "cell_type": "markdown",
      "metadata": {
        "id": "e_NwErDjMJPK"
      },
      "source": [
        "## Growing the full decision tree"
      ]
    },
    {
      "cell_type": "markdown",
      "metadata": {
        "id": "uL6CeTuJMJPK"
      },
      "source": [
        "So far we have worked out how to find the best split point for single now - we are now ready to tackle building the whole tree! Let's increase the depth in our scikit-learn model to compare against:"
      ]
    },
    {
      "cell_type": "code",
      "execution_count": 35,
      "metadata": {
        "id": "EReSwGyXMJPK",
        "outputId": "e2566a24-edc1-4f75-f399-265641da17ad",
        "colab": {
          "base_uri": "https://localhost:8080/",
          "height": 493
        }
      },
      "outputs": [
        {
          "output_type": "display_data",
          "data": {
            "text/plain": [
              "<Figure size 3000x1000 with 1 Axes>"
            ],
            "image/png": "[encoded data removed]"
          },
          "metadata": {}
        }
      ],
      "source": [
        "model = RandomForestClassifier(n_estimators=1, max_depth=2, bootstrap=False, random_state=42, max_features=None)\n",
        "model.fit(X_samp, y_samp)\n",
        "\n",
        "draw_tree(model)"
      ]
    },
    {
      "cell_type": "markdown",
      "metadata": {
        "id": "USeT5DFRMJPK"
      },
      "source": [
        "Recall that our `DecisionTree` class has a simple function to find the best split:\n",
        "\n",
        "```python\n",
        "def find_feature_split(self):\n",
        "    for i in range(self.n_features):\n",
        "        self.find_better_split(i)\n",
        "```\n",
        "This is not quite sufficient it only checks for the best split at the root node, when in fact we need to check whether is a better split in the left and right child nodes. The following change to the code takes care of this:"
      ]
    },
    {
      "cell_type": "code",
      "execution_count": 36,
      "metadata": {
        "id": "u1IMAGKvMJPK"
      },
      "outputs": [],
      "source": [
        "def find_feature_split(self):\n",
        "    for i in range(self.n_features):\n",
        "        self.find_better_split(i)\n",
        "\n",
        "    if self.is_leaf:\n",
        "        return\n",
        "\n",
        "    X = self.split_feature\n",
        "    # grab indices for left and right nodes\n",
        "    lhs = np.nonzero(X <= self.split)[0]\n",
        "    rhs = np.nonzero(X > self.split)[0]\n",
        "    # recursively calculate decision trees for all nodes\n",
        "    self.lhs = DecisionTree(self.X, self.y, self.indices[lhs])\n",
        "    self.rhs = DecisionTree(self.X, self.y, self.indices[rhs])"
      ]
    },
    {
      "cell_type": "markdown",
      "metadata": {
        "id": "oUv26JEtMJPK"
      },
      "source": [
        "Now we can override the function in our class and test we can reproduce the numbers in our scikit-learn tree:"
      ]
    },
    {
      "cell_type": "code",
      "execution_count": 37,
      "metadata": {
        "id": "NYJ44bYaMJPK"
      },
      "outputs": [],
      "source": [
        "DecisionTree.find_feature_split = find_feature_split"
      ]
    },
    {
      "cell_type": "code",
      "execution_count": 38,
      "metadata": {
        "id": "9K7Q7HeHMJPL",
        "outputId": "c89a08d6-95d6-419c-a03a-a76790f0297e",
        "colab": {
          "base_uri": "https://localhost:8080/"
        }
      },
      "outputs": [
        {
          "output_type": "execute_result",
          "data": {
            "text/plain": [
              "n_samples: 1000; value: [0.516 0.484]; gini: 0.49948800000000004; score: 0.3864820927729048; feature: missing energy magnitude; split_point: 1.1392959356307983"
            ]
          },
          "metadata": {},
          "execution_count": 38
        }
      ],
      "source": [
        "tree = TreeEnsemble(X_samp, y_samp, 1, 1000).trees[0]\n",
        "tree"
      ]
    },
    {
      "cell_type": "code",
      "execution_count": 39,
      "metadata": {
        "id": "JYta7KLMMJPL",
        "outputId": "73638111-fede-4159-ae5b-da5a5b09d840",
        "colab": {
          "base_uri": "https://localhost:8080/"
        }
      },
      "outputs": [
        {
          "output_type": "execute_result",
          "data": {
            "text/plain": [
              "n_samples: 707; value: [0.66902405 0.33097595]; gini: 0.4428617442467625; score: 0.3753049089041096; feature: lepton 1 pT; split_point: 0.8853832483291628"
            ]
          },
          "metadata": {},
          "execution_count": 39
        }
      ],
      "source": [
        "tree.lhs"
      ]
    },
    {
      "cell_type": "code",
      "execution_count": 40,
      "metadata": {
        "id": "RCkWeV3SMJPL",
        "outputId": "fda05407-e970-4950-cd42-fcc24c58d273",
        "colab": {
          "base_uri": "https://localhost:8080/"
        }
      },
      "outputs": [
        {
          "output_type": "execute_result",
          "data": {
            "text/plain": [
              "n_samples: 293; value: [0.14675768 0.85324232]; gini: 0.2504397255646542; score: 0.22066400314213208; feature: missing energy magnitude; split_point: 1.4726196527481081"
            ]
          },
          "metadata": {},
          "execution_count": 40
        }
      ],
      "source": [
        "tree.rhs"
      ]
    },
    {
      "cell_type": "code",
      "execution_count": 41,
      "metadata": {
        "id": "k25KzfBhMJPL",
        "outputId": "6a78001b-ee9f-4a8f-c959-8babfb7c8713",
        "colab": {
          "base_uri": "https://localhost:8080/"
        }
      },
      "outputs": [
        {
          "output_type": "execute_result",
          "data": {
            "text/plain": [
              "n_samples: 477; value: [0.7966457 0.2033543]; gini: 0.32400265460666544; score: 0.3118973109371423; feature: lepton 1 pT; split_point: 0.7281696796417235"
            ]
          },
          "metadata": {},
          "execution_count": 41
        }
      ],
      "source": [
        "tree.lhs.lhs"
      ]
    },
    {
      "cell_type": "code",
      "execution_count": 42,
      "metadata": {
        "id": "6oQKMLVsMJPL",
        "outputId": "c5e29682-9404-498a-9aa1-e0afc64f39b4",
        "colab": {
          "base_uri": "https://localhost:8080/"
        }
      },
      "outputs": [
        {
          "output_type": "execute_result",
          "data": {
            "text/plain": [
              "n_samples: 230; value: [0.40434783 0.59565217]; gini: 0.4817013232514178; score: 0.4334455110107284; feature: lepton 1 pT; split_point: 1.5821422338485713"
            ]
          },
          "metadata": {},
          "execution_count": 42
        }
      ],
      "source": [
        "tree.lhs.rhs"
      ]
    },
    {
      "cell_type": "code",
      "execution_count": 43,
      "metadata": {
        "id": "VRV3aJloMJPL",
        "outputId": "6365c2ea-bed7-46da-d394-a478e0b00c72",
        "colab": {
          "base_uri": "https://localhost:8080/"
        }
      },
      "outputs": [
        {
          "output_type": "execute_result",
          "data": {
            "text/plain": [
              "n_samples: 102; value: [0.31372549 0.68627451]; gini: 0.43060361399461744; score: 0.37738731856378904; feature: lepton 1 pT; split_point: 0.6343935132026673"
            ]
          },
          "metadata": {},
          "execution_count": 43
        }
      ],
      "source": [
        "tree.rhs.lhs"
      ]
    },
    {
      "cell_type": "code",
      "execution_count": 44,
      "metadata": {
        "id": "0MPrF1k5MJPL",
        "outputId": "2fe41add-9248-4932-9ccf-27d55bd44d4b",
        "colab": {
          "base_uri": "https://localhost:8080/"
        }
      },
      "outputs": [
        {
          "output_type": "execute_result",
          "data": {
            "text/plain": [
              "n_samples: 191; value: [0.05759162 0.94240838]; gini: 0.10854965598530741; score: 0.1032951765936059; feature: missing energy magnitude; split_point: 1.6436718702316286"
            ]
          },
          "metadata": {},
          "execution_count": 44
        }
      ],
      "source": [
        "tree.rhs.rhs"
      ]
    },
    {
      "cell_type": "markdown",
      "metadata": {
        "id": "F4FvPZpHMJPL"
      },
      "source": [
        "Hooray, it works 🥳🥳🥳!"
      ]
    },
    {
      "cell_type": "markdown",
      "metadata": {
        "id": "rZVzOdyvMJPL"
      },
      "source": [
        "## Generate predictions"
      ]
    },
    {
      "cell_type": "markdown",
      "metadata": {
        "id": "zR0FU_j7MJPL"
      },
      "source": [
        "Now that we have something that can train a Decision Tree, the next step is to implement the methods to generate predictions. Although we have `TreeEnsemble.predict` we do not have anything like this yet for `DecisionTree`. To make things more interesting, let's add a few more columns to our training set:"
      ]
    },
    {
      "cell_type": "code",
      "execution_count": 45,
      "metadata": {
        "id": "XM5yRWuIMJPL"
      },
      "outputs": [],
      "source": [
        "cols = [\"missing energy magnitude\", \"lepton 1 pT\", \"axial MET\", \"M_TR_2\", \"M_R\", \"S_R\"]\n",
        "\n",
        "X_train_sub = X_train[cols].copy()\n",
        "X_valid_sub = X_valid[cols].copy()"
      ]
    },
    {
      "cell_type": "markdown",
      "metadata": {
        "id": "H888zl7nMJPL"
      },
      "source": [
        "Let's create our tree ensemble again to make sure we can compare against scikit-learn:"
      ]
    },
    {
      "cell_type": "code",
      "execution_count": 46,
      "metadata": {
        "id": "DYQ35RWMMJPL",
        "outputId": "bd130fa1-0366-4627-b3d3-3dba3086fe97",
        "colab": {
          "base_uri": "https://localhost:8080/"
        }
      },
      "outputs": [
        {
          "output_type": "stream",
          "name": "stdout",
          "text": [
            "CPU times: user 4.02 s, sys: 58.8 ms, total: 4.08 s\n",
            "Wall time: 4.06 s\n"
          ]
        }
      ],
      "source": [
        "%time tree = TreeEnsemble(X_train_sub, y_train, 1, 1000).trees[0]\n",
        "X_samp, y_samp = tree.X, tree.y"
      ]
    },
    {
      "cell_type": "code",
      "execution_count": 47,
      "metadata": {
        "id": "iaDVlozmMJPL",
        "outputId": "55c252b9-f4ae-4438-dde6-2bad9bbc5413",
        "colab": {
          "base_uri": "https://localhost:8080/",
          "height": 92
        }
      },
      "outputs": [
        {
          "output_type": "execute_result",
          "data": {
            "text/plain": [
              "RandomForestClassifier(bootstrap=False, max_features=None, min_samples_leaf=5,\n",
              "                       n_estimators=1, random_state=42)"
            ],
            "text/html": [
              "<style>#sk-container-id-2 {color: black;}#sk-container-id-2 pre{padding: 0;}#sk-container-id-2 div.sk-toggleable {background-color: white;}#sk-container-id-2 label.sk-toggleable__label {cursor: pointer;display: block;width: 100%;margin-bottom: 0;padding: 0.3em;box-sizing: border-box;text-align: center;}#sk-container-id-2 label.sk-toggleable__label-arrow:before {content: \"▸\";float: left;margin-right: 0.25em;color: #696969;}#sk-container-id-2 label.sk-toggleable__label-arrow:hover:before {color: black;}#sk-container-id-2 div.sk-estimator:hover label.sk-toggleable__label-arrow:before {color: black;}#sk-container-id-2 div.sk-toggleable__content {max-height: 0;max-width: 0;overflow: hidden;text-align: left;background-color: #f0f8ff;}#sk-container-id-2 div.sk-toggleable__content pre {margin: 0.2em;color: black;border-radius: 0.25em;background-color: #f0f8ff;}#sk-container-id-2 input.sk-toggleable__control:checked~div.sk-toggleable__content {max-height: 200px;max-width: 100%;overflow: auto;}#sk-container-id-2 input.sk-toggleable__control:checked~label.sk-toggleable__label-arrow:before {content: \"▾\";}#sk-container-id-2 div.sk-estimator input.sk-toggleable__control:checked~label.sk-toggleable__label {background-color: #d4ebff;}#sk-container-id-2 div.sk-label input.sk-toggleable__control:checked~label.sk-toggleable__label {background-color: #d4ebff;}#sk-container-id-2 input.sk-hidden--visually {border: 0;clip: rect(1px 1px 1px 1px);clip: rect(1px, 1px, 1px, 1px);height: 1px;margin: -1px;overflow: hidden;padding: 0;position: absolute;width: 1px;}#sk-container-id-2 div.sk-estimator {font-family: monospace;background-color: #f0f8ff;border: 1px dotted black;border-radius: 0.25em;box-sizing: border-box;margin-bottom: 0.5em;}#sk-container-id-2 div.sk-estimator:hover {background-color: #d4ebff;}#sk-container-id-2 div.sk-parallel-item::after {content: \"\";width: 100%;border-bottom: 1px solid gray;flex-grow: 1;}#sk-container-id-2 div.sk-label:hover label.sk-toggleable__label {background-color: #d4ebff;}#sk-container-id-2 div.sk-serial::before {content: \"\";position: absolute;border-left: 1px solid gray;box-sizing: border-box;top: 0;bottom: 0;left: 50%;z-index: 0;}#sk-container-id-2 div.sk-serial {display: flex;flex-direction: column;align-items: center;background-color: white;padding-right: 0.2em;padding-left: 0.2em;position: relative;}#sk-container-id-2 div.sk-item {position: relative;z-index: 1;}#sk-container-id-2 div.sk-parallel {display: flex;align-items: stretch;justify-content: center;background-color: white;position: relative;}#sk-container-id-2 div.sk-item::before, #sk-container-id-2 div.sk-parallel-item::before {content: \"\";position: absolute;border-left: 1px solid gray;box-sizing: border-box;top: 0;bottom: 0;left: 50%;z-index: -1;}#sk-container-id-2 div.sk-parallel-item {display: flex;flex-direction: column;z-index: 1;position: relative;background-color: white;}#sk-container-id-2 div.sk-parallel-item:first-child::after {align-self: flex-end;width: 50%;}#sk-container-id-2 div.sk-parallel-item:last-child::after {align-self: flex-start;width: 50%;}#sk-container-id-2 div.sk-parallel-item:only-child::after {width: 0;}#sk-container-id-2 div.sk-dashed-wrapped {border: 1px dashed gray;margin: 0 0.4em 0.5em 0.4em;box-sizing: border-box;padding-bottom: 0.4em;background-color: white;}#sk-container-id-2 div.sk-label label {font-family: monospace;font-weight: bold;display: inline-block;line-height: 1.2em;}#sk-container-id-2 div.sk-label-container {text-align: center;}#sk-container-id-2 div.sk-container {/* jupyter's `normalize.less` sets `[hidden] { display: none; }` but bootstrap.min.css set `[hidden] { display: none !important; }` so we also need the `!important` here to be able to override the default hidden behavior on the sphinx rendered scikit-learn.org. See: https://github.com/scikit-learn/scikit-learn/issues/21755 */display: inline-block !important;position: relative;}#sk-container-id-2 div.sk-text-repr-fallback {display: none;}</style><div id=\"sk-container-id-2\" class=\"sk-top-container\"><div class=\"sk-text-repr-fallback\"><pre>RandomForestClassifier(bootstrap=False, max_features=None, min_samples_leaf=5,\n",
              "                       n_estimators=1, random_state=42)</pre><b>In a Jupyter environment, please rerun this cell to show the HTML representation or trust the notebook. <br />On GitHub, the HTML representation is unable to render, please try loading this page with nbviewer.org.</b></div><div class=\"sk-container\" hidden><div class=\"sk-item\"><div class=\"sk-estimator sk-toggleable\"><input class=\"sk-toggleable__control sk-hidden--visually\" id=\"sk-estimator-id-2\" type=\"checkbox\" checked><label for=\"sk-estimator-id-2\" class=\"sk-toggleable__label sk-toggleable__label-arrow\">RandomForestClassifier</label><div class=\"sk-toggleable__content\"><pre>RandomForestClassifier(bootstrap=False, max_features=None, min_samples_leaf=5,\n",
              "                       n_estimators=1, random_state=42)</pre></div></div></div></div></div>"
            ]
          },
          "metadata": {},
          "execution_count": 47
        }
      ],
      "source": [
        "model = RandomForestClassifier(\n",
        "    n_estimators=1, max_depth=None, bootstrap=False, max_features=None, random_state=42, min_samples_leaf=5,\n",
        ")\n",
        "model.fit(X_samp, y_samp)"
      ]
    },
    {
      "cell_type": "markdown",
      "metadata": {
        "id": "uvfsTV2bMJPL"
      },
      "source": [
        "To generate the predictions, we simply need to loop over each row in $X$ and build the array as follows:"
      ]
    },
    {
      "cell_type": "code",
      "execution_count": 48,
      "metadata": {
        "id": "wBvkfvcgMJPL"
      },
      "outputs": [],
      "source": [
        "def predict(self, X):\n",
        "    return np.array([self.predict_row(Xi) for Xi in X])\n",
        "\n",
        "\n",
        "DecisionTree.predict = predict"
      ]
    },
    {
      "cell_type": "markdown",
      "metadata": {
        "id": "jIHM0Ra9MJPM"
      },
      "source": [
        "The final step is to implement `predict_row`, which is mostly trivial: if we're at a leaf note we return the class label with the highest probability, otherwise we figure out whether to traverse to the left or right child node, and so on:"
      ]
    },
    {
      "cell_type": "code",
      "execution_count": 49,
      "metadata": {
        "id": "ycfo0rMtMJPM"
      },
      "outputs": [],
      "source": [
        "def predict_row(self, Xi):\n",
        "    if self.is_leaf:\n",
        "        return self.value\n",
        "    t = self.lhs if Xi[self.feature_index] <= self.split else self.rhs\n",
        "    return t.predict_row(Xi)\n",
        "\n",
        "\n",
        "DecisionTree.predict_row = predict_row"
      ]
    },
    {
      "cell_type": "markdown",
      "metadata": {
        "id": "3QXuDXzKMJPM"
      },
      "source": [
        "With this we can now calculate our class probabilities:"
      ]
    },
    {
      "cell_type": "code",
      "execution_count": 50,
      "metadata": {
        "id": "nPJ4wFc0MJPM",
        "outputId": "1674b9fe-b983-41e8-eea0-9da270094f14",
        "colab": {
          "base_uri": "https://localhost:8080/"
        }
      },
      "outputs": [
        {
          "output_type": "stream",
          "name": "stdout",
          "text": [
            "CPU times: user 122 ms, sys: 2.05 ms, total: 124 ms\n",
            "Wall time: 124 ms\n"
          ]
        }
      ],
      "source": [
        "%time probs = tree.predict(X_valid_sub.values)[:, 1]"
      ]
    },
    {
      "cell_type": "markdown",
      "metadata": {
        "id": "8OcYTMXdMJPM"
      },
      "source": [
        "and evaluate the ROC AUC score on the validation set:"
      ]
    },
    {
      "cell_type": "code",
      "execution_count": 51,
      "metadata": {
        "id": "CXAv-kZbMJPM",
        "outputId": "1509acf3-c2a5-4f33-c86b-0c874d12890b",
        "colab": {
          "base_uri": "https://localhost:8080/"
        }
      },
      "outputs": [
        {
          "output_type": "execute_result",
          "data": {
            "text/plain": [
              "0.7603031405574215"
            ]
          },
          "metadata": {},
          "execution_count": 51
        }
      ],
      "source": [
        "roc_auc_score(y_valid, probs)"
      ]
    },
    {
      "cell_type": "markdown",
      "metadata": {
        "id": "qSm6MAsyMJPM"
      },
      "source": [
        "How does this compare with scikit-learn's implementation? Let's find out by calculating their predictions and evaluating on the validation set:"
      ]
    },
    {
      "cell_type": "code",
      "execution_count": 52,
      "metadata": {
        "id": "GpMgEHw9MJPM",
        "outputId": "70f9eaa5-a1fe-44e3-fae5-c16826c5d680",
        "colab": {
          "base_uri": "https://localhost:8080/"
        }
      },
      "outputs": [
        {
          "output_type": "execute_result",
          "data": {
            "text/plain": [
              "0.76246534984286"
            ]
          },
          "metadata": {},
          "execution_count": 52
        }
      ],
      "source": [
        "probs_sklearn = model.predict_proba(X_valid_sub)[:, 1]\n",
        "roc_auc_score(y_valid, probs_sklearn)"
      ]
    },
    {
      "cell_type": "markdown",
      "metadata": {
        "id": "vOpmmg3JMJPM"
      },
      "source": [
        "With a difference of < 1%, our implementation does not perform too badly at all!"
      ]
    },
    {
      "cell_type": "markdown",
      "metadata": {
        "id": "_oPBi3z-MJPM"
      },
      "source": [
        "## Putting it together"
      ]
    },
    {
      "cell_type": "markdown",
      "metadata": {
        "id": "QkU8jS5PMJPM"
      },
      "source": [
        "Let's wrap this up by collecting all of our class functions into two dedicated classes:"
      ]
    },
    {
      "cell_type": "code",
      "execution_count": 53,
      "metadata": {
        "id": "eHbiE5zkMJPM"
      },
      "outputs": [],
      "source": [
        "class TreeEnsemble:\n",
        "    # instance attributes\n",
        "    def __init__(\n",
        "        self, X: np.ndarray, y: np.ndarray, n_trees: int, sample_size: int, min_samples_leaf: int = 5,\n",
        "    ):\n",
        "        # use constant random seed for testing\n",
        "        np.random.seed(42)\n",
        "        self.X = X\n",
        "        self.y = y\n",
        "        self.n_trees = n_trees\n",
        "        self.sample_size = sample_size\n",
        "        self.min_samples_leaf = min_samples_leaf\n",
        "\n",
        "        self.trees = [self.create_tree() for i in range(n_trees)]\n",
        "\n",
        "    # instance method\n",
        "    def create_tree(self):\n",
        "        # grab random subsample without replacement - no bootstrapping!\n",
        "        random_indices = np.random.permutation(len(self.y))[: self.sample_size]\n",
        "        return DecisionTree(\n",
        "            self.X.iloc[random_indices], self.y.iloc[random_indices], min_samples_leaf=self.min_samples_leaf,\n",
        "        )\n",
        "\n",
        "    # instance method\n",
        "    def predict(self, X):\n",
        "        return np.mean([t.predict(X) for t in self.trees], axis=0)"
      ]
    },
    {
      "cell_type": "code",
      "execution_count": 54,
      "metadata": {
        "id": "bN27CcMYMJPM"
      },
      "outputs": [],
      "source": [
        "class DecisionTree:\n",
        "    def __init__(self, X, y, indices=None, min_samples_leaf=5):\n",
        "        # use all rows for root node\n",
        "        if indices is None:\n",
        "            indices = np.arange(len(y))\n",
        "\n",
        "        self.X = X\n",
        "        self.y = y\n",
        "        self.indices = indices\n",
        "        self.min_samples_leaf = min_samples_leaf\n",
        "\n",
        "        self.n_samples, self.n_features = len(indices), X.shape[1]\n",
        "        self.value = self.calculate_class_probabilities(self.y, self.indices)\n",
        "        self.gini = self.gini_impurity(self.y)\n",
        "        self.score = float(\"inf\")\n",
        "        self.find_feature_split()\n",
        "\n",
        "    def find_feature_split(self):\n",
        "        for i in range(self.n_features):\n",
        "            self.find_better_split(i)\n",
        "\n",
        "        if self.is_leaf:\n",
        "            return\n",
        "\n",
        "        X = self.split_feature\n",
        "        # grab indices for left and right nodes\n",
        "        lhs = np.nonzero(X <= self.split)[0]\n",
        "        rhs = np.nonzero(X > self.split)[0]\n",
        "        # recursively calculate decision trees for all nodes\n",
        "        self.lhs = DecisionTree(self.X, self.y, self.indices[lhs])\n",
        "        self.rhs = DecisionTree(self.X, self.y, self.indices[rhs])\n",
        "\n",
        "    def find_better_split(self, feature_index):\n",
        "        X, y = self.X.values[self.indices, feature_index], self.y.values[self.indices]\n",
        "\n",
        "        sorted_indices = np.argsort(X)\n",
        "        y_sorted, X_sorted = y[sorted_indices], X[sorted_indices]\n",
        "        index = 0\n",
        "\n",
        "        for i in range(0, self.n_samples - self.min_samples_leaf):\n",
        "            index += 1\n",
        "            Xi = X_sorted[i]\n",
        "            # continue if stopping criterion not reached\n",
        "            if i < self.min_samples_leaf - 1 or Xi == X_sorted[i + 1]:\n",
        "                continue\n",
        "\n",
        "            # calculate Gini impurities for left and right nodes\n",
        "            lhs_gini = gini_impurity(self, y_sorted[:index])\n",
        "            rhs_gini = gini_impurity(self, y_sorted[index:])\n",
        "            # calculate score for current split point\n",
        "            curr_score = lhs_gini * len(y_sorted[:index]) / len(y_sorted) + rhs_gini * len(y_sorted[index:]) / len(\n",
        "                y_sorted\n",
        "            )\n",
        "            # update attributes if new score is smaller than old\n",
        "            if curr_score < self.score:\n",
        "                self.feature_index, self.score, self.split, self.gini = (\n",
        "                    feature_index,\n",
        "                    curr_score,\n",
        "                    X_sorted[i],\n",
        "                    gini_impurity(self, y),\n",
        "                )\n",
        "\n",
        "    def calculate_class_probabilities(self, y: pd.Series, indices: np.ndarray):\n",
        "        probs = np.unique(y.iloc[indices], return_counts=True)[1] / len(y.iloc[indices])\n",
        "\n",
        "        # handle edge case when leaf only contains one sample\n",
        "        if len(probs) == 1:\n",
        "            if int(y.iloc[indices].values[0]) == 0:\n",
        "                value = np.array([1.0, 0.0])\n",
        "            else:\n",
        "                value = np.array([0.0, 1.0])\n",
        "        else:\n",
        "            value = probs\n",
        "\n",
        "        return value\n",
        "\n",
        "    def gini_impurity(self, y):\n",
        "        return 1.0 - np.sum((np.unique(y, return_counts=True)[1] / len(y)) ** 2)\n",
        "\n",
        "    def predict(self, X):\n",
        "        return np.array([self.predict_row(Xi) for Xi in X])\n",
        "\n",
        "    def predict_row(self, Xi):\n",
        "        if self.is_leaf:\n",
        "            return self.value\n",
        "        t = self.lhs if Xi[self.feature_index] <= self.split else self.rhs\n",
        "        return t.predict_row(Xi)\n",
        "\n",
        "    @property\n",
        "    def split_name(self):\n",
        "        return self.X.columns[self.feature_index]\n",
        "\n",
        "    @property\n",
        "    def split_feature(self):\n",
        "        return self.X.values[self.indices, self.feature_index]\n",
        "\n",
        "    @property\n",
        "    def is_leaf(self):\n",
        "        return self.score == float(\"inf\")\n",
        "\n",
        "    # convert object to string - see https://dbader.org/blog/python-repr-vs-str\n",
        "    def __repr__(self):\n",
        "        s = f\"n_samples: {self.n_samples}; value: {self.value}; gini: {self.gini}\"\n",
        "        if not self.is_leaf:\n",
        "            s += f\"; score: {self.score}; feature: {self.split_name}; split_point: {self.split}\"\n",
        "        return s"
      ]
    },
    {
      "cell_type": "markdown",
      "metadata": {
        "id": "ZwhxXVL0MJPN"
      },
      "source": [
        "As a sanity check, let's evaluate the performance on a single tree:"
      ]
    },
    {
      "cell_type": "code",
      "execution_count": 55,
      "metadata": {
        "id": "5V6RFhJMMJPN",
        "outputId": "4119666c-301f-48ee-9970-1e862878bbf4",
        "colab": {
          "base_uri": "https://localhost:8080/"
        }
      },
      "outputs": [
        {
          "output_type": "execute_result",
          "data": {
            "text/plain": [
              "0.7603031405574215"
            ]
          },
          "metadata": {},
          "execution_count": 55
        }
      ],
      "source": [
        "tree = TreeEnsemble(X_train_sub, y_train, n_trees=1, sample_size=1000).trees[0]\n",
        "X_samp, y_samp = tree.X, tree.y\n",
        "\n",
        "# calculate class probabilities\n",
        "probs = tree.predict(X_valid_sub.values)[:, 1]\n",
        "# evaluate\n",
        "roc_auc_score(y_valid, probs)"
      ]
    },
    {
      "cell_type": "markdown",
      "metadata": {
        "id": "_LCb7whLMJPN"
      },
      "source": [
        "This matches our earlier result, so let's now roll-out to a full forest and compare against scikit-learn:"
      ]
    },
    {
      "cell_type": "code",
      "execution_count": 56,
      "metadata": {
        "id": "i5UeXVubMJPN",
        "outputId": "d5e47d63-a1aa-4284-d0fc-f147aa7691dd",
        "colab": {
          "base_uri": "https://localhost:8080/"
        }
      },
      "outputs": [
        {
          "output_type": "stream",
          "name": "stdout",
          "text": [
            "CPU times: user 18.8 s, sys: 164 ms, total: 18.9 s\n",
            "Wall time: 19 s\n"
          ]
        },
        {
          "output_type": "execute_result",
          "data": {
            "text/plain": [
              "0.8309216956906361"
            ]
          },
          "metadata": {},
          "execution_count": 56
        }
      ],
      "source": [
        "%time rf = TreeEnsemble(X_train_sub, y_train, n_trees=5, sample_size=1000)\n",
        "\n",
        "probs = rf.predict(X_valid_sub.values)[:, 1]\n",
        "roc_auc_score(y_valid, probs)"
      ]
    },
    {
      "cell_type": "code",
      "execution_count": 57,
      "metadata": {
        "id": "bSIsqBmaMJPN",
        "outputId": "9ad5ec7c-2939-4f5a-a096-7b438e2b704b",
        "colab": {
          "base_uri": "https://localhost:8080/"
        }
      },
      "outputs": [
        {
          "output_type": "execute_result",
          "data": {
            "text/plain": [
              "0.7794032635534188"
            ]
          },
          "metadata": {},
          "execution_count": 57
        }
      ],
      "source": [
        "model = RandomForestClassifier(n_estimators=5, bootstrap=False, max_features=None, random_state=42, min_samples_leaf=5)\n",
        "model.fit(X_train_sub, y_train)\n",
        "\n",
        "probs_sklearn = model.predict_proba(X_valid_sub)[:, 1]\n",
        "roc_auc_score(y_valid, probs_sklearn)"
      ]
    },
    {
      "cell_type": "markdown",
      "metadata": {
        "id": "AsazvD5gMJPN"
      },
      "source": [
        "The final results are not the same, but ours did a little better, possibly due to differences in how we average the predictions across trees. In any case, we can be happy that our implementation that we wrote entirely from scratch is competitive with a well tested implementation!"
      ]
    },
    {
      "cell_type": "markdown",
      "metadata": {
        "id": "iQeT6EVhMJPN"
      },
      "source": [
        "## Performance improvements with Cython and Numba"
      ]
    },
    {
      "cell_type": "markdown",
      "metadata": {
        "id": "sx767EYNMJPN"
      },
      "source": [
        "Although our Random Forest implementation did OK on the ROC AUC score, its runtime performance leaves a lot to be desired. One way we could improve this is by following scikit-learn, who typically implement their algorithms in [Cython](https://cython.org/), which allows you to generate efficient C code from Python. To use Cython in a Jupyter notebook we call the magic function:"
      ]
    },
    {
      "cell_type": "code",
      "execution_count": null,
      "metadata": {
        "id": "LtCQGKx4MJPN"
      },
      "outputs": [],
      "source": [
        "%load_ext Cython"
      ]
    },
    {
      "cell_type": "markdown",
      "metadata": {
        "id": "IrwJOKcyMJPN"
      },
      "source": [
        "and then can compare the pure Python function"
      ]
    },
    {
      "cell_type": "code",
      "execution_count": null,
      "metadata": {
        "id": "C_-zQXYLMJPN"
      },
      "outputs": [],
      "source": [
        "def fib1(n):\n",
        "    a, b = 0, 1\n",
        "    while b < n:\n",
        "        a, b = b, a + b"
      ]
    },
    {
      "cell_type": "code",
      "execution_count": null,
      "metadata": {
        "id": "J1jE6szmMJPN",
        "outputId": "c0270d66-21ec-48af-a32d-1b236191d2ae"
      },
      "outputs": [
        {
          "name": "stdout",
          "output_type": "stream",
          "text": [
            "478 ns ± 3 ns per loop (mean ± std. dev. of 7 runs, 1000000 loops each)\n"
          ]
        }
      ],
      "source": [
        "%timeit fib1(50)"
      ]
    },
    {
      "cell_type": "markdown",
      "metadata": {
        "id": "nVazfTtYMJPN"
      },
      "source": [
        "against it's compiled version"
      ]
    },
    {
      "cell_type": "code",
      "execution_count": null,
      "metadata": {
        "id": "4-qmHvfOMJPN"
      },
      "outputs": [],
      "source": [
        "%%cython\n",
        "def fib2(n):\n",
        "    a, b = 0, 1\n",
        "    while b < n:\n",
        "        a, b = b, a + b"
      ]
    },
    {
      "cell_type": "code",
      "execution_count": null,
      "metadata": {
        "id": "Ni0r_TfUMJPN",
        "outputId": "bdc2780f-66f0-4600-bafe-a5e965f79dbe"
      },
      "outputs": [
        {
          "name": "stdout",
          "output_type": "stream",
          "text": [
            "210 ns ± 4.99 ns per loop (mean ± std. dev. of 7 runs, 1000000 loops each)\n"
          ]
        }
      ],
      "source": [
        "%timeit fib2(50)"
      ]
    },
    {
      "cell_type": "markdown",
      "metadata": {
        "id": "_3jYPEivMJPO"
      },
      "source": [
        "We can gain even more performance gains by declaring the types explicitly:"
      ]
    },
    {
      "cell_type": "code",
      "execution_count": null,
      "metadata": {
        "id": "JBU0B0WdMJPO"
      },
      "outputs": [],
      "source": [
        "%%cython\n",
        "def fib3(int n):\n",
        "    cdef int b = 1\n",
        "    cdef int a = 0\n",
        "    cdef int t = 0\n",
        "    while b < n:\n",
        "        t = a\n",
        "        a = b\n",
        "        b = t + b"
      ]
    },
    {
      "cell_type": "code",
      "execution_count": null,
      "metadata": {
        "id": "766R8g1iMJPO",
        "outputId": "0a083ee5-7bc5-4257-9288-85938f6bd935"
      },
      "outputs": [
        {
          "name": "stdout",
          "output_type": "stream",
          "text": [
            "41.6 ns ± 1.21 ns per loop (mean ± std. dev. of 7 runs, 10000000 loops each)\n"
          ]
        }
      ],
      "source": [
        "%timeit fib3(50)"
      ]
    },
    {
      "cell_type": "markdown",
      "metadata": {
        "id": "UQ4X73ksMJPO"
      },
      "source": [
        "In practice, I find that [Numba](http://numba.pydata.org/) provides a powerful alternative to Cython and does away with the need to learn new data types etc. To use Numba one simply needs to import it and add a decorator to your functions:"
      ]
    },
    {
      "cell_type": "code",
      "execution_count": null,
      "metadata": {
        "id": "Kb-UB6-YMJPO"
      },
      "outputs": [],
      "source": [
        "from numba import njit"
      ]
    },
    {
      "cell_type": "code",
      "execution_count": null,
      "metadata": {
        "id": "9_vEcYwmMJPO"
      },
      "outputs": [],
      "source": [
        "@njit\n",
        "def fib4(n):\n",
        "    a, b = 0, 1\n",
        "    while b < n:\n",
        "        a, b = b, a + b"
      ]
    },
    {
      "cell_type": "code",
      "execution_count": null,
      "metadata": {
        "id": "OXCpSKwmMJPO",
        "outputId": "5f45a643-7b52-4c2c-a069-23b2a9d96227"
      },
      "outputs": [
        {
          "name": "stdout",
          "output_type": "stream",
          "text": [
            "109 ns ± 1.07 ns per loop (mean ± std. dev. of 7 runs, 10000000 loops each)\n"
          ]
        }
      ],
      "source": [
        "%timeit fib4(50)"
      ]
    },
    {
      "cell_type": "markdown",
      "metadata": {
        "id": "xjhtx1AtMJPO"
      },
      "source": [
        "This is especially useful when working with NumPy functions, consider for example the generation of the Mandelbrot set using NumPy:"
      ]
    },
    {
      "cell_type": "code",
      "execution_count": null,
      "metadata": {
        "id": "bnK9sdxMMJPO"
      },
      "outputs": [],
      "source": [
        "# example from - https://ipython-books.github.io/52-accelerating-pure-python-code-with-numba-and-just-in-time-compilation/\n",
        "size = 400\n",
        "iterations = 100\n",
        "\n",
        "\n",
        "def mandelbrot_1(size, iterations):\n",
        "    m = np.zeros((size, size))\n",
        "    for i in range(size):\n",
        "        for j in range(size):\n",
        "            c = -2 + 3.0 / size * j + 1j * (1.5 - 3.0 / size * i)\n",
        "            z = 0\n",
        "            for n in range(iterations):\n",
        "                if np.abs(z) <= 10:\n",
        "                    z = z * z + c\n",
        "                    m[i, j] = n\n",
        "                else:\n",
        "                    break\n",
        "    return m"
      ]
    },
    {
      "cell_type": "code",
      "execution_count": null,
      "metadata": {
        "id": "9VpA0YanMJPO",
        "outputId": "26ac1920-45e8-44ad-c4f5-0501ebf21a87"
      },
      "outputs": [
        {
          "data": {
            "image/png": "[encoded data removed]",
            "text/plain": [
              "<Figure size 720x720 with 1 Axes>"
            ]
          },
          "metadata": {
            "needs_background": "light"
          },
          "output_type": "display_data"
        }
      ],
      "source": [
        "m = mandelbrot_1(size, iterations)\n",
        "fig, ax = plt.subplots(1, 1, figsize=(10, 10))\n",
        "ax.imshow(np.log(m), cmap=plt.cm.hot)\n",
        "ax.set_axis_off()"
      ]
    },
    {
      "cell_type": "code",
      "execution_count": null,
      "metadata": {
        "id": "zRpIciUiMJPO",
        "outputId": "a1c8a036-d162-4b4a-e001-913437aa78a6"
      },
      "outputs": [
        {
          "name": "stdout",
          "output_type": "stream",
          "text": [
            "5.04 s ± 49 ms per loop (mean ± std. dev. of 7 runs, 1 loop each)\n"
          ]
        }
      ],
      "source": [
        "%timeit mandelbrot_1(size, iterations)"
      ]
    },
    {
      "cell_type": "markdown",
      "metadata": {
        "id": "b2q4ZAvoMJPO"
      },
      "source": [
        "Adding `@njit` as a decorator gives a 300x speedup!"
      ]
    },
    {
      "cell_type": "code",
      "execution_count": null,
      "metadata": {
        "id": "lYjlIMeFMJPO"
      },
      "outputs": [],
      "source": [
        "@njit\n",
        "def mandelbrot_2(size, iterations):\n",
        "    m = np.zeros((size, size))\n",
        "    for i in range(size):\n",
        "        for j in range(size):\n",
        "            c = -2 + 3.0 / size * j + 1j * (1.5 - 3.0 / size * i)\n",
        "            z = 0\n",
        "            for n in range(iterations):\n",
        "                if np.abs(z) <= 10:\n",
        "                    z = z * z + c\n",
        "                    m[i, j] = n\n",
        "                else:\n",
        "                    break\n",
        "    return m"
      ]
    },
    {
      "cell_type": "code",
      "execution_count": null,
      "metadata": {
        "id": "WF-NTOHFMJPO",
        "outputId": "91a7ecaa-c815-476b-e056-3860cc10538a"
      },
      "outputs": [
        {
          "name": "stdout",
          "output_type": "stream",
          "text": [
            "16.6 ms ± 206 µs per loop (mean ± std. dev. of 7 runs, 100 loops each)\n"
          ]
        }
      ],
      "source": [
        "%timeit mandelbrot_2(size, iterations)"
      ]
    },
    {
      "cell_type": "markdown",
      "metadata": {
        "id": "8viW7mVyMJPO"
      },
      "source": [
        "## Exercises\n",
        "\n",
        "* An alternative measure of impurity is the so-called Shannon entropy, which measures the average information content of a message. In the context of classification, a set's entropy is zero when it contains examples of only one class. Use the definition of entropy\n",
        "$$ H_i = \\sum_{k=1}^n p_{i,k} \\log p_{i,k} $$\n",
        "to extend our `DecisionTree` class with a new `criterion` hyperparameter that allows one to use Gini impurity or entropy as a measure of a node's impurity.\n",
        "* In our implementation of `TreeEnsemble` we use all the features at every node to find the best split point. Extend the functionality by introducing a `max_features` hyperparameter that controls the number of features used at every node in a manner similar to scikit-learn."
      ]
    },
    {
      "cell_type": "code",
      "execution_count": null,
      "metadata": {
        "id": "e2sanxWDMJPP"
      },
      "outputs": [],
      "source": []
    }
  ],
  "metadata": {
    "kernelspec": {
      "display_name": "Python 3",
      "language": "python",
      "name": "python3"
    },
    "colab": {
      "provenance": []
    }
  },
  "nbformat": 4,
  "nbformat_minor": 0
}